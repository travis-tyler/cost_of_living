{
 "cells": [
  {
   "cell_type": "code",
   "execution_count": 1,
   "metadata": {},
   "outputs": [],
   "source": [
    "import pandas as pd\n",
    "import matplotlib.pyplot as plt\n",
    "import numpy as np\n",
    "import json\n",
    "import re"
   ]
  },
  {
   "cell_type": "code",
   "execution_count": 2,
   "metadata": {},
   "outputs": [
    {
     "data": {
      "text/html": [
       "<div>\n",
       "<style scoped>\n",
       "    .dataframe tbody tr th:only-of-type {\n",
       "        vertical-align: middle;\n",
       "    }\n",
       "\n",
       "    .dataframe tbody tr th {\n",
       "        vertical-align: top;\n",
       "    }\n",
       "\n",
       "    .dataframe thead th {\n",
       "        text-align: right;\n",
       "    }\n",
       "</style>\n",
       "<table border=\"1\" class=\"dataframe\">\n",
       "  <thead>\n",
       "    <tr style=\"text-align: right;\">\n",
       "      <th></th>\n",
       "      <th>name</th>\n",
       "      <th>us_state</th>\n",
       "      <th>cost_of_living_index</th>\n",
       "      <th>cost_of_living_plus_rent_index</th>\n",
       "      <th>groceries_index</th>\n",
       "      <th>local_purchasing_power_index</th>\n",
       "      <th>rent_index</th>\n",
       "      <th>restaurant_price_index</th>\n",
       "      <th>last_updated_timestamp</th>\n",
       "      <th>cost_of_living_details</th>\n",
       "    </tr>\n",
       "  </thead>\n",
       "  <tbody>\n",
       "    <tr>\n",
       "      <th>0</th>\n",
       "      <td>Akron</td>\n",
       "      <td>OH</td>\n",
       "      <td>61.51</td>\n",
       "      <td>43.19</td>\n",
       "      <td>62.82</td>\n",
       "      <td>95.09</td>\n",
       "      <td>21.92</td>\n",
       "      <td>51.34</td>\n",
       "      <td>2021-07-23 06:04:03.894450+00:00</td>\n",
       "      <td>[{'currency': 'USD', 'details': [{'Item': 'Est...</td>\n",
       "    </tr>\n",
       "    <tr>\n",
       "      <th>1</th>\n",
       "      <td>Albany</td>\n",
       "      <td>NY</td>\n",
       "      <td>71.27</td>\n",
       "      <td>54.47</td>\n",
       "      <td>68.54</td>\n",
       "      <td>100.38</td>\n",
       "      <td>34.96</td>\n",
       "      <td>78.90</td>\n",
       "      <td>2021-07-23 06:03:12.784457+00:00</td>\n",
       "      <td>[{'currency': 'USD', 'details': [{'Item': 'Est...</td>\n",
       "    </tr>\n",
       "    <tr>\n",
       "      <th>2</th>\n",
       "      <td>Albuquerque</td>\n",
       "      <td>NM</td>\n",
       "      <td>61.47</td>\n",
       "      <td>46.77</td>\n",
       "      <td>63.74</td>\n",
       "      <td>101.92</td>\n",
       "      <td>29.71</td>\n",
       "      <td>59.80</td>\n",
       "      <td>2021-07-23 06:04:03.870895+00:00</td>\n",
       "      <td>[{'currency': 'USD', 'details': [{'Item': 'Est...</td>\n",
       "    </tr>\n",
       "    <tr>\n",
       "      <th>3</th>\n",
       "      <td>Anchorage</td>\n",
       "      <td>AK</td>\n",
       "      <td>91.62</td>\n",
       "      <td>66.90</td>\n",
       "      <td>97.01</td>\n",
       "      <td>100.29</td>\n",
       "      <td>38.21</td>\n",
       "      <td>77.74</td>\n",
       "      <td>2021-07-23 06:01:51.163839+00:00</td>\n",
       "      <td>[{'currency': 'USD', 'details': [{'Item': 'Est...</td>\n",
       "    </tr>\n",
       "    <tr>\n",
       "      <th>4</th>\n",
       "      <td>Ann Arbor</td>\n",
       "      <td>MI</td>\n",
       "      <td>72.24</td>\n",
       "      <td>61.74</td>\n",
       "      <td>74.28</td>\n",
       "      <td>135.21</td>\n",
       "      <td>49.54</td>\n",
       "      <td>66.69</td>\n",
       "      <td>2021-07-23 06:03:04.324288+00:00</td>\n",
       "      <td>[{'currency': 'USD', 'details': [{'Item': 'Est...</td>\n",
       "    </tr>\n",
       "    <tr>\n",
       "      <th>...</th>\n",
       "      <td>...</td>\n",
       "      <td>...</td>\n",
       "      <td>...</td>\n",
       "      <td>...</td>\n",
       "      <td>...</td>\n",
       "      <td>...</td>\n",
       "      <td>...</td>\n",
       "      <td>...</td>\n",
       "      <td>...</td>\n",
       "      <td>...</td>\n",
       "    </tr>\n",
       "    <tr>\n",
       "      <th>90</th>\n",
       "      <td>Tucson</td>\n",
       "      <td>AZ</td>\n",
       "      <td>64.63</td>\n",
       "      <td>47.81</td>\n",
       "      <td>60.96</td>\n",
       "      <td>70.92</td>\n",
       "      <td>28.28</td>\n",
       "      <td>66.30</td>\n",
       "      <td>2021-07-23 06:03:52.881112+00:00</td>\n",
       "      <td>[{'currency': 'USD', 'details': [{'Item': 'Est...</td>\n",
       "    </tr>\n",
       "    <tr>\n",
       "      <th>91</th>\n",
       "      <td>Tulsa</td>\n",
       "      <td>OK</td>\n",
       "      <td>60.84</td>\n",
       "      <td>46.73</td>\n",
       "      <td>59.89</td>\n",
       "      <td>120.28</td>\n",
       "      <td>30.35</td>\n",
       "      <td>55.47</td>\n",
       "      <td>2021-07-23 06:04:04.509476+00:00</td>\n",
       "      <td>[{'currency': 'USD', 'details': [{'Item': 'Est...</td>\n",
       "    </tr>\n",
       "    <tr>\n",
       "      <th>92</th>\n",
       "      <td>Vancouver</td>\n",
       "      <td>WA</td>\n",
       "      <td>67.80</td>\n",
       "      <td>57.29</td>\n",
       "      <td>63.58</td>\n",
       "      <td>102.83</td>\n",
       "      <td>45.08</td>\n",
       "      <td>68.41</td>\n",
       "      <td>2021-07-23 06:03:34.546316+00:00</td>\n",
       "      <td>[{'currency': 'USD', 'details': [{'Item': 'Est...</td>\n",
       "    </tr>\n",
       "    <tr>\n",
       "      <th>93</th>\n",
       "      <td>Washington</td>\n",
       "      <td>DC</td>\n",
       "      <td>83.74</td>\n",
       "      <td>81.01</td>\n",
       "      <td>83.81</td>\n",
       "      <td>97.43</td>\n",
       "      <td>77.83</td>\n",
       "      <td>79.50</td>\n",
       "      <td>2021-07-23 06:02:00.327068+00:00</td>\n",
       "      <td>[{'currency': 'USD', 'details': [{'Item': 'Est...</td>\n",
       "    </tr>\n",
       "    <tr>\n",
       "      <th>94</th>\n",
       "      <td>Wichita</td>\n",
       "      <td>KS</td>\n",
       "      <td>58.97</td>\n",
       "      <td>42.15</td>\n",
       "      <td>54.40</td>\n",
       "      <td>114.93</td>\n",
       "      <td>22.62</td>\n",
       "      <td>58.38</td>\n",
       "      <td>2021-07-23 06:04:10.204821+00:00</td>\n",
       "      <td>[{'currency': 'USD', 'details': [{'Item': 'Est...</td>\n",
       "    </tr>\n",
       "  </tbody>\n",
       "</table>\n",
       "<p>95 rows × 10 columns</p>\n",
       "</div>"
      ],
      "text/plain": [
       "           name us_state  cost_of_living_index  \\\n",
       "0         Akron       OH                 61.51   \n",
       "1        Albany       NY                 71.27   \n",
       "2   Albuquerque       NM                 61.47   \n",
       "3     Anchorage       AK                 91.62   \n",
       "4     Ann Arbor       MI                 72.24   \n",
       "..          ...      ...                   ...   \n",
       "90       Tucson       AZ                 64.63   \n",
       "91        Tulsa       OK                 60.84   \n",
       "92    Vancouver       WA                 67.80   \n",
       "93   Washington       DC                 83.74   \n",
       "94      Wichita       KS                 58.97   \n",
       "\n",
       "    cost_of_living_plus_rent_index  groceries_index  \\\n",
       "0                            43.19            62.82   \n",
       "1                            54.47            68.54   \n",
       "2                            46.77            63.74   \n",
       "3                            66.90            97.01   \n",
       "4                            61.74            74.28   \n",
       "..                             ...              ...   \n",
       "90                           47.81            60.96   \n",
       "91                           46.73            59.89   \n",
       "92                           57.29            63.58   \n",
       "93                           81.01            83.81   \n",
       "94                           42.15            54.40   \n",
       "\n",
       "    local_purchasing_power_index  rent_index  restaurant_price_index  \\\n",
       "0                          95.09       21.92                   51.34   \n",
       "1                         100.38       34.96                   78.90   \n",
       "2                         101.92       29.71                   59.80   \n",
       "3                         100.29       38.21                   77.74   \n",
       "4                         135.21       49.54                   66.69   \n",
       "..                           ...         ...                     ...   \n",
       "90                         70.92       28.28                   66.30   \n",
       "91                        120.28       30.35                   55.47   \n",
       "92                        102.83       45.08                   68.41   \n",
       "93                         97.43       77.83                   79.50   \n",
       "94                        114.93       22.62                   58.38   \n",
       "\n",
       "              last_updated_timestamp  \\\n",
       "0   2021-07-23 06:04:03.894450+00:00   \n",
       "1   2021-07-23 06:03:12.784457+00:00   \n",
       "2   2021-07-23 06:04:03.870895+00:00   \n",
       "3   2021-07-23 06:01:51.163839+00:00   \n",
       "4   2021-07-23 06:03:04.324288+00:00   \n",
       "..                               ...   \n",
       "90  2021-07-23 06:03:52.881112+00:00   \n",
       "91  2021-07-23 06:04:04.509476+00:00   \n",
       "92  2021-07-23 06:03:34.546316+00:00   \n",
       "93  2021-07-23 06:02:00.327068+00:00   \n",
       "94  2021-07-23 06:04:10.204821+00:00   \n",
       "\n",
       "                               cost_of_living_details  \n",
       "0   [{'currency': 'USD', 'details': [{'Item': 'Est...  \n",
       "1   [{'currency': 'USD', 'details': [{'Item': 'Est...  \n",
       "2   [{'currency': 'USD', 'details': [{'Item': 'Est...  \n",
       "3   [{'currency': 'USD', 'details': [{'Item': 'Est...  \n",
       "4   [{'currency': 'USD', 'details': [{'Item': 'Est...  \n",
       "..                                                ...  \n",
       "90  [{'currency': 'USD', 'details': [{'Item': 'Est...  \n",
       "91  [{'currency': 'USD', 'details': [{'Item': 'Est...  \n",
       "92  [{'currency': 'USD', 'details': [{'Item': 'Est...  \n",
       "93  [{'currency': 'USD', 'details': [{'Item': 'Est...  \n",
       "94  [{'currency': 'USD', 'details': [{'Item': 'Est...  \n",
       "\n",
       "[95 rows x 10 columns]"
      ]
     },
     "execution_count": 2,
     "metadata": {},
     "output_type": "execute_result"
    }
   ],
   "source": [
    "df = pd.DataFrame(pd.read_csv('../output/us_costs_of_living.csv')).drop(columns=['Unnamed: 0'])\n",
    "df"
   ]
  },
  {
   "cell_type": "code",
   "execution_count": 3,
   "metadata": {},
   "outputs": [
    {
     "data": {
      "text/plain": [
       "[{'Akron': [{'Item': 'Domestic Beer (1 pint draught)',\n",
       "    'Range': '2.0-11.01',\n",
       "    'Value': '3.0'},\n",
       "   {'Item': 'Imported Beer (12 oz small bottle)',\n",
       "    'Range': '3.0-11.01',\n",
       "    'Value': '4.0'},\n",
       "   {'Item': 'Domestic Beer (0.5 liter bottle)',\n",
       "    'Range': '1.42-4.29',\n",
       "    'Value': '1.97'},\n",
       "   {'Item': 'Imported Beer (12 oz small bottle)',\n",
       "    'Range': '1.5-5.0',\n",
       "    'Value': '2.25'}]},\n",
       " {'Albany': [{'Item': 'Domestic Beer (1 pint draught)',\n",
       "    'Range': '3.5-8.01',\n",
       "    'Value': '4.0'},\n",
       "   {'Item': 'Imported Beer (12 oz small bottle)',\n",
       "    'Range': '6.01-8.01',\n",
       "    'Value': '6.5'},\n",
       "   {'Item': 'Domestic Beer (0.5 liter bottle)',\n",
       "    'Range': '1.07-2.86',\n",
       "    'Value': '2.26'},\n",
       "   {'Item': 'Imported Beer (12 oz small bottle)',\n",
       "    'Range': '1.1-3.0',\n",
       "    'Value': '2.21'}]},\n",
       " {'Albuquerque': [{'Item': 'Domestic Beer (1 pint draught)',\n",
       "    'Range': '3.0-7.01',\n",
       "    'Value': '5.0'},\n",
       "   {'Item': 'Imported Beer (12 oz small bottle)',\n",
       "    'Range': '4.0-7.01',\n",
       "    'Value': '4.76'},\n",
       "   {'Item': 'Domestic Beer (0.5 liter bottle)',\n",
       "    'Range': '1.72-4.29',\n",
       "    'Value': '3.17'},\n",
       "   {'Item': 'Imported Beer (12 oz small bottle)',\n",
       "    'Range': '1.5-5.0',\n",
       "    'Value': '3.76'}]},\n",
       " {'Anchorage': [{'Item': 'Domestic Beer (1 pint draught)',\n",
       "    'Range': '3.0-10.01',\n",
       "    'Value': '6.01'},\n",
       "   {'Item': 'Imported Beer (12 oz small bottle)',\n",
       "    'Range': '6.5-10.01',\n",
       "    'Value': '7.76'},\n",
       "   {'Item': 'Domestic Beer (0.5 liter bottle)',\n",
       "    'Range': '1.14-5.72',\n",
       "    'Value': '2.17'},\n",
       "   {'Item': 'Imported Beer (12 oz small bottle)',\n",
       "    'Range': '2.0-5.0',\n",
       "    'Value': '4.25'}]},\n",
       " {'Ann Arbor': [{'Item': 'Domestic Beer (1 pint draught)',\n",
       "    'Range': '3.0-7.01',\n",
       "    'Value': '4.0'},\n",
       "   {'Item': 'Imported Beer (12 oz small bottle)',\n",
       "    'Range': '4.5-8.01',\n",
       "    'Value': '6.01'},\n",
       "   {'Item': 'Domestic Beer (0.5 liter bottle)',\n",
       "    'Range': '1.42-3.57',\n",
       "    'Value': '2.19'},\n",
       "   {'Item': 'Imported Beer (12 oz small bottle)',\n",
       "    'Range': '1.5-4.0',\n",
       "    'Value': '2.6'}]},\n",
       " {'Asheville': [{'Item': 'Domestic Beer (1 pint draught)',\n",
       "    'Range': '2.5-7.01',\n",
       "    'Value': '5.0'},\n",
       "   {'Item': 'Imported Beer (12 oz small bottle)',\n",
       "    'Range': '5.0-8.01',\n",
       "    'Value': '6.01'},\n",
       "   {'Item': 'Domestic Beer (0.5 liter bottle)',\n",
       "    'Range': '1.42-5.72',\n",
       "    'Value': '3.79'},\n",
       "   {'Item': 'Imported Beer (12 oz small bottle)',\n",
       "    'Range': '2.0-5.0',\n",
       "    'Value': '3.94'}]},\n",
       " {'Atlanta': [{'Item': 'Domestic Beer (1 pint draught)',\n",
       "    'Range': '3.5-10.0',\n",
       "    'Value': '5.5'},\n",
       "   {'Item': 'Imported Beer (12 oz small bottle)',\n",
       "    'Range': '3.5-10.01',\n",
       "    'Value': '6.01'},\n",
       "   {'Item': 'Domestic Beer (0.5 liter bottle)',\n",
       "    'Range': '1.42-4.29',\n",
       "    'Value': '2.67'},\n",
       "   {'Item': 'Imported Beer (12 oz small bottle)',\n",
       "    'Range': '1.5-5.0',\n",
       "    'Value': '3.25'}]},\n",
       " {'Austin': [{'Item': 'Domestic Beer (1 pint draught)',\n",
       "    'Range': '2.0-7.01',\n",
       "    'Value': '4.1'},\n",
       "   {'Item': 'Imported Beer (12 oz small bottle)',\n",
       "    'Range': '4.0-8.01',\n",
       "    'Value': '6.01'},\n",
       "   {'Item': 'Domestic Beer (0.5 liter bottle)',\n",
       "    'Range': '0.85-2.86',\n",
       "    'Value': '1.98'},\n",
       "   {'Item': 'Imported Beer (12 oz small bottle)',\n",
       "    'Range': '0.95-4.0',\n",
       "    'Value': '1.87'}]},\n",
       " {'Baltimore': [{'Item': 'Domestic Beer (1 pint draught)',\n",
       "    'Range': '4.0-10.01',\n",
       "    'Value': '6.01'},\n",
       "   {'Item': 'Imported Beer (12 oz small bottle)',\n",
       "    'Range': '5.0-15.01',\n",
       "    'Value': '7.5'},\n",
       "   {'Item': 'Domestic Beer (0.5 liter bottle)',\n",
       "    'Range': '1.42-3.93',\n",
       "    'Value': '2.73'},\n",
       "   {'Item': 'Imported Beer (12 oz small bottle)',\n",
       "    'Range': '1.0-3.5',\n",
       "    'Value': '2.46'}]},\n",
       " {'Baton Rouge': [{'Item': 'Domestic Beer (1 pint draught)',\n",
       "    'Range': '2.0-5.5',\n",
       "    'Value': '4.0'},\n",
       "   {'Item': 'Imported Beer (12 oz small bottle)',\n",
       "    'Range': '3.0-6.01',\n",
       "    'Value': '4.76'},\n",
       "   {'Item': 'Domestic Beer (0.5 liter bottle)',\n",
       "    'Range': '1.58-2.14',\n",
       "    'Value': '2.05'},\n",
       "   {'Item': 'Imported Beer (12 oz small bottle)',\n",
       "    'Range': '1.65-5.0',\n",
       "    'Value': '3.13'}]},\n",
       " {'Bellevue': [{'Item': 'Domestic Beer (1 pint draught)',\n",
       "    'Range': '3.49-5.98',\n",
       "    'Value': '4.98'},\n",
       "   {'Item': 'Imported Beer (12 oz small bottle)',\n",
       "    'Range': '5.98-9.28',\n",
       "    'Value': '7.98'},\n",
       "   {'Item': 'Domestic Beer (0.5 liter bottle)',\n",
       "    'Range': '1.92-4.27',\n",
       "    'Value': '3.74'},\n",
       "   {'Item': 'Imported Beer (12 oz small bottle)',\n",
       "    'Range': '1.99-4.98',\n",
       "    'Value': '4.55'}]},\n",
       " {'Bellingham': [{'Item': 'Domestic Beer (0.5 liter draught)',\n",
       "    'Range': '2.01-6.02',\n",
       "    'Value': '5.01'},\n",
       "   {'Item': 'Imported Beer (0.33 liter bottle)',\n",
       "    'Range': '4.01-6.53',\n",
       "    'Value': '4.87'},\n",
       "   {'Item': 'Domestic Beer (0.5 liter bottle)',\n",
       "    'Range': '1.0-4.08',\n",
       "    'Value': '2.73'},\n",
       "   {'Item': 'Imported Beer (0.33 liter bottle)',\n",
       "    'Range': '1.26-4.6',\n",
       "    'Value': '3.2'}]},\n",
       " {'Birmingham': [{'Item': 'Domestic Beer (1 pint draught)',\n",
       "    'Range': '3.0-6.01',\n",
       "    'Value': '5.0'},\n",
       "   {'Item': 'Imported Beer (12 oz small bottle)',\n",
       "    'Range': '4.0-8.01',\n",
       "    'Value': '6.25'},\n",
       "   {'Item': 'Domestic Beer (0.5 liter bottle)',\n",
       "    'Range': '1.41-4.29',\n",
       "    'Value': '2.58'},\n",
       "   {'Item': 'Imported Beer (12 oz small bottle)',\n",
       "    'Range': '1.5-3.76',\n",
       "    'Value': '2.66'}]},\n",
       " {'Boca Raton': [{'Item': 'Domestic Beer (1 pint draught)',\n",
       "    'Range': '4.0-10.01',\n",
       "    'Value': '6.12'},\n",
       "   {'Item': 'Imported Beer (12 oz small bottle)',\n",
       "    'Range': '7.01-10.01',\n",
       "    'Value': '7.01'},\n",
       "   {'Item': 'Domestic Beer (0.5 liter bottle)',\n",
       "    'Range': '1.42-2.86',\n",
       "    'Value': '2.64'},\n",
       "   {'Item': 'Imported Beer (12 oz small bottle)',\n",
       "    'Range': '2.0-5.0',\n",
       "    'Value': '2.87'}]},\n",
       " {'Boise': [{'Item': 'Domestic Beer (1 pint draught)',\n",
       "    'Range': '3.0-6.01',\n",
       "    'Value': '5.0'},\n",
       "   {'Item': 'Imported Beer (12 oz small bottle)',\n",
       "    'Range': '5.0-10.01',\n",
       "    'Value': '7.01'},\n",
       "   {'Item': 'Domestic Beer (0.5 liter bottle)',\n",
       "    'Range': '1.42-4.29',\n",
       "    'Value': '3.39'},\n",
       "   {'Item': 'Imported Beer (12 oz small bottle)',\n",
       "    'Range': '1.0-5.0',\n",
       "    'Value': '3.53'}]},\n",
       " {'Boston': [{'Item': 'Domestic Beer (1 pint draught)',\n",
       "    'Range': '5.0-8.01',\n",
       "    'Value': '7.01'},\n",
       "   {'Item': 'Imported Beer (12 oz small bottle)',\n",
       "    'Range': '7.01-10.01',\n",
       "    'Value': '8.01'},\n",
       "   {'Item': 'Domestic Beer (0.5 liter bottle)',\n",
       "    'Range': '1.42-3.57',\n",
       "    'Value': '2.54'},\n",
       "   {'Item': 'Imported Beer (12 oz small bottle)',\n",
       "    'Range': '1.99-5.0',\n",
       "    'Value': '3.23'}]},\n",
       " {'Brooklyn': [{'Item': 'Domestic Beer (0.5 liter draught)',\n",
       "    'Range': '5.43-8.47',\n",
       "    'Value': '6.97'},\n",
       "   {'Item': 'Imported Beer (0.33 liter bottle)',\n",
       "    'Range': '7.97-10.46',\n",
       "    'Value': '8.97'},\n",
       "   {'Item': 'Domestic Beer (0.5 liter bottle)',\n",
       "    'Range': '1.42-4.27',\n",
       "    'Value': '2.64'},\n",
       "   {'Item': 'Imported Beer (0.33 liter bottle)',\n",
       "    'Range': '1.99-3.49',\n",
       "    'Value': '2.96'}]},\n",
       " {'Buffalo': [{'Item': 'Domestic Beer (1 pint draught)',\n",
       "    'Range': '2.99-7.01',\n",
       "    'Value': '5.0'},\n",
       "   {'Item': 'Imported Beer (12 oz small bottle)',\n",
       "    'Range': '4.0-8.01',\n",
       "    'Value': '5.0'},\n",
       "   {'Item': 'Domestic Beer (0.5 liter bottle)',\n",
       "    'Range': '1.42-3.57',\n",
       "    'Value': '2.83'},\n",
       "   {'Item': 'Imported Beer (12 oz small bottle)',\n",
       "    'Range': '1.7-4.0',\n",
       "    'Value': '2.63'}]},\n",
       " {'Charleston': [{'Item': 'Domestic Beer (1 pint draught)',\n",
       "    'Range': '3.5-7.01',\n",
       "    'Value': '5.0'},\n",
       "   {'Item': 'Imported Beer (12 oz small bottle)',\n",
       "    'Range': '5.0-8.01',\n",
       "    'Value': '6.01'},\n",
       "   {'Item': 'Domestic Beer (0.5 liter bottle)',\n",
       "    'Range': '0.79-2.14',\n",
       "    'Value': '1.67'},\n",
       "   {'Item': 'Imported Beer (12 oz small bottle)',\n",
       "    'Range': '1.0-2.54',\n",
       "    'Value': '1.99'}]},\n",
       " {'Charlotte': [{'Item': 'Domestic Beer (1 pint draught)',\n",
       "    'Range': '3.0-7.01',\n",
       "    'Value': '4.76'},\n",
       "   {'Item': 'Imported Beer (12 oz small bottle)',\n",
       "    'Range': '5.0-9.0',\n",
       "    'Value': '6.01'},\n",
       "   {'Item': 'Domestic Beer (0.5 liter bottle)',\n",
       "    'Range': '1.32-2.86',\n",
       "    'Value': '2.06'},\n",
       "   {'Item': 'Imported Beer (12 oz small bottle)',\n",
       "    'Range': '1.0-2.8',\n",
       "    'Value': '1.94'}]},\n",
       " {'Chattanooga': [{'Item': 'Domestic Beer (1 pint draught)',\n",
       "    'Range': '3.0-6.01',\n",
       "    'Value': '4.0'},\n",
       "   {'Item': 'Imported Beer (12 oz small bottle)',\n",
       "    'Range': '3.0-6.5',\n",
       "    'Value': '5.5'},\n",
       "   {'Item': 'Domestic Beer (0.5 liter bottle)',\n",
       "    'Range': '2.14-4.29',\n",
       "    'Value': '3.85'},\n",
       "   {'Item': 'Imported Beer (12 oz small bottle)',\n",
       "    'Range': '3.0-6.01',\n",
       "    'Value': '4.5'}]},\n",
       " {'Chicago': [{'Item': 'Domestic Beer (1 pint draught)',\n",
       "    'Range': '4.0-8.01',\n",
       "    'Value': '5.5'},\n",
       "   {'Item': 'Imported Beer (12 oz small bottle)',\n",
       "    'Range': '5.0-10.01',\n",
       "    'Value': '7.01'},\n",
       "   {'Item': 'Domestic Beer (0.5 liter bottle)',\n",
       "    'Range': '1.42-5.72',\n",
       "    'Value': '2.88'},\n",
       "   {'Item': 'Imported Beer (12 oz small bottle)',\n",
       "    'Range': '1.3-5.0',\n",
       "    'Value': '2.94'}]},\n",
       " {'Cincinnati': [{'Item': 'Domestic Beer (1 pint draught)',\n",
       "    'Range': '3.0-7.01',\n",
       "    'Value': '5.0'},\n",
       "   {'Item': 'Imported Beer (12 oz small bottle)',\n",
       "    'Range': '5.0-9.01',\n",
       "    'Value': '6.01'},\n",
       "   {'Item': 'Domestic Beer (0.5 liter bottle)',\n",
       "    'Range': '1.42-2.86',\n",
       "    'Value': '2.13'},\n",
       "   {'Item': 'Imported Beer (12 oz small bottle)',\n",
       "    'Range': '1.75-2.5',\n",
       "    'Value': '2.18'}]},\n",
       " {'Cleveland': [{'Item': 'Domestic Beer (1 pint draught)',\n",
       "    'Range': '3.0-7.01',\n",
       "    'Value': '5.38'},\n",
       "   {'Item': 'Imported Beer (12 oz small bottle)',\n",
       "    'Range': '3.76-10.01',\n",
       "    'Value': '6.99'},\n",
       "   {'Item': 'Domestic Beer (0.5 liter bottle)',\n",
       "    'Range': '1.42-5.0',\n",
       "    'Value': '3.63'},\n",
       "   {'Item': 'Imported Beer (12 oz small bottle)',\n",
       "    'Range': '1.25-5.0',\n",
       "    'Value': '4.25'}]},\n",
       " {'Colorado Springs': [{'Item': 'Domestic Beer (1 pint draught)',\n",
       "    'Range': '4.0-7.01',\n",
       "    'Value': '5.0'},\n",
       "   {'Item': 'Imported Beer (12 oz small bottle)',\n",
       "    'Range': '5.0-7.01',\n",
       "    'Value': '7.01'},\n",
       "   {'Item': 'Domestic Beer (0.5 liter bottle)',\n",
       "    'Range': '1.3-4.29',\n",
       "    'Value': '3.36'},\n",
       "   {'Item': 'Imported Beer (12 oz small bottle)',\n",
       "    'Range': '2.0-5.0',\n",
       "    'Value': '3.94'}]},\n",
       " {'Columbus': [{'Item': 'Domestic Beer (1 pint draught)',\n",
       "    'Range': '2.5-7.01',\n",
       "    'Value': '5.0'},\n",
       "   {'Item': 'Imported Beer (12 oz small bottle)',\n",
       "    'Range': '4.0-8.01',\n",
       "    'Value': '6.01'},\n",
       "   {'Item': 'Domestic Beer (0.5 liter bottle)',\n",
       "    'Range': '1.42-4.29',\n",
       "    'Value': '2.53'},\n",
       "   {'Item': 'Imported Beer (12 oz small bottle)',\n",
       "    'Range': '1.5-5.0',\n",
       "    'Value': '2.81'}]},\n",
       " {'Dallas': [{'Item': 'Domestic Beer (1 pint draught)',\n",
       "    'Range': '3.0-7.01',\n",
       "    'Value': '5.0'},\n",
       "   {'Item': 'Imported Beer (12 oz small bottle)',\n",
       "    'Range': '5.0-10.01',\n",
       "    'Value': '7.01'},\n",
       "   {'Item': 'Domestic Beer (0.5 liter bottle)',\n",
       "    'Range': '1.66-4.29',\n",
       "    'Value': '2.94'},\n",
       "   {'Item': 'Imported Beer (12 oz small bottle)',\n",
       "    'Range': '1.8-5.0',\n",
       "    'Value': '2.72'}]},\n",
       " {'Denver': [{'Item': 'Domestic Beer (1 pint draught)',\n",
       "    'Range': '4.0-8.01',\n",
       "    'Value': '6.01'},\n",
       "   {'Item': 'Imported Beer (12 oz small bottle)',\n",
       "    'Range': '6.01-10.01',\n",
       "    'Value': '7.5'},\n",
       "   {'Item': 'Domestic Beer (0.5 liter bottle)',\n",
       "    'Range': '1.42-4.29',\n",
       "    'Value': '2.74'},\n",
       "   {'Item': 'Imported Beer (12 oz small bottle)',\n",
       "    'Range': '1.5-4.0',\n",
       "    'Value': '2.54'}]},\n",
       " {'Des Moines': [{'Item': 'Domestic Beer (1 pint draught)',\n",
       "    'Range': '2.5-6.01',\n",
       "    'Value': '4.0'},\n",
       "   {'Item': 'Imported Beer (12 oz small bottle)',\n",
       "    'Range': '4.25-7.01',\n",
       "    'Value': '5.0'},\n",
       "   {'Item': 'Domestic Beer (0.5 liter bottle)',\n",
       "    'Range': '1.32-3.57',\n",
       "    'Value': '2.18'},\n",
       "   {'Item': 'Imported Beer (12 oz small bottle)',\n",
       "    'Range': '1.5-3.0',\n",
       "    'Value': '2.23'}]},\n",
       " {'Detroit': [{'Item': 'Domestic Beer (1 pint draught)',\n",
       "    'Range': '3.0-9.01',\n",
       "    'Value': '5.0'},\n",
       "   {'Item': 'Imported Beer (12 oz small bottle)',\n",
       "    'Range': '5.0-12.01',\n",
       "    'Value': '6.01'},\n",
       "   {'Item': 'Domestic Beer (0.5 liter bottle)',\n",
       "    'Range': '1.42-4.29',\n",
       "    'Value': '2.6'},\n",
       "   {'Item': 'Imported Beer (12 oz small bottle)',\n",
       "    'Range': '1.5-5.0',\n",
       "    'Value': '3.69'}]},\n",
       " {'Durham': [{'Item': 'Domestic Beer (1 pint draught)',\n",
       "    'Range': '3.0-6.01',\n",
       "    'Value': '3.76'},\n",
       "   {'Item': 'Imported Beer (12 oz small bottle)',\n",
       "    'Range': '4.5-8.01',\n",
       "    'Value': '6.5'},\n",
       "   {'Item': 'Domestic Beer (0.5 liter bottle)',\n",
       "    'Range': '1.42-4.29',\n",
       "    'Value': '2.3'},\n",
       "   {'Item': 'Imported Beer (12 oz small bottle)',\n",
       "    'Range': '1.75-4.5',\n",
       "    'Value': '2.13'}]},\n",
       " {'El Paso': [{'Item': 'Domestic Beer (1 pint draught)',\n",
       "    'Range': '2.0-6.5',\n",
       "    'Value': '2.8'},\n",
       "   {'Item': 'Imported Beer (12 oz small bottle)',\n",
       "    'Range': '3.25-5.0',\n",
       "    'Value': '3.63'},\n",
       "   {'Item': 'Domestic Beer (0.5 liter bottle)',\n",
       "    'Range': '0.86-2.14',\n",
       "    'Value': '1.74'},\n",
       "   {'Item': 'Imported Beer (12 oz small bottle)',\n",
       "    'Range': '1.5-3.25',\n",
       "    'Value': '2.13'}]},\n",
       " {'Eugene': [{'Item': 'Domestic Beer (1 pint draught)',\n",
       "    'Range': '3.5-7.01',\n",
       "    'Value': '6.01'},\n",
       "   {'Item': 'Imported Beer (12 oz small bottle)',\n",
       "    'Range': '4.0-9.01',\n",
       "    'Value': '5.0'},\n",
       "   {'Item': 'Domestic Beer (0.5 liter bottle)',\n",
       "    'Range': '2.14-4.29',\n",
       "    'Value': '3.67'},\n",
       "   {'Item': 'Imported Beer (12 oz small bottle)',\n",
       "    'Range': '2.0-5.0',\n",
       "    'Value': '3.72'}]},\n",
       " {'Everett': [{'Item': 'Domestic Beer (1 pint draught)',\n",
       "    'Range': '4.0-6.99',\n",
       "    'Value': '5.0'},\n",
       "   {'Item': 'Imported Beer (12 oz small bottle)',\n",
       "    'Range': '5.0-8.0',\n",
       "    'Value': '6.0'},\n",
       "   {'Item': 'Domestic Beer (0.5 liter bottle)',\n",
       "    'Range': '2.85-4.26',\n",
       "    'Value': '3.65'},\n",
       "   {'Item': 'Imported Beer (12 oz small bottle)',\n",
       "    'Range': '1.0-3.99',\n",
       "    'Value': '3.12'}]},\n",
       " {'Fort Lauderdale': [{'Item': 'Domestic Beer (1 pint draught)',\n",
       "    'Range': '4.0-6.01',\n",
       "    'Value': '5.0'},\n",
       "   {'Item': 'Imported Beer (12 oz small bottle)',\n",
       "    'Range': '5.0-7.01',\n",
       "    'Value': '7.01'},\n",
       "   {'Item': 'Domestic Beer (0.5 liter bottle)',\n",
       "    'Range': '1.72-5.72',\n",
       "    'Value': '2.76'},\n",
       "   {'Item': 'Imported Beer (12 oz small bottle)',\n",
       "    'Range': '1.5-5.0',\n",
       "    'Value': '3.38'}]},\n",
       " {'Fort Worth': [{'Item': 'Domestic Beer (1 pint draught)',\n",
       "    'Range': '2.0-3.5',\n",
       "    'Value': '3.0'},\n",
       "   {'Item': 'Imported Beer (12 oz small bottle)',\n",
       "    'Range': '4.0-6.01',\n",
       "    'Value': '4.5'},\n",
       "   {'Item': 'Domestic Beer (0.5 liter bottle)',\n",
       "    'Range': '1.42-4.29',\n",
       "    'Value': '2.86'},\n",
       "   {'Item': 'Imported Beer (12 oz small bottle)',\n",
       "    'Range': '1.5-4.76',\n",
       "    'Value': '2.63'}]},\n",
       " {'Fremont': [{'Item': 'Domestic Beer (1 pint draught)',\n",
       "    'Range': '4.0-9.87',\n",
       "    'Value': '5.5'},\n",
       "   {'Item': 'Imported Beer (12 oz small bottle)',\n",
       "    'Range': '6.01-10.75',\n",
       "    'Value': '8.01'},\n",
       "   {'Item': 'Domestic Beer (0.5 liter bottle)',\n",
       "    'Range': '1.0-2.86',\n",
       "    'Value': '2.5'},\n",
       "   {'Item': 'Imported Beer (12 oz small bottle)',\n",
       "    'Range': '1.0-3.0',\n",
       "    'Value': '2.66'}]},\n",
       " {'Fresno': [{'Item': 'Domestic Beer (1 pint draught)',\n",
       "    'Range': '4.0-6.01',\n",
       "    'Value': '4.0'},\n",
       "   {'Item': 'Imported Beer (12 oz small bottle)',\n",
       "    'Range': '5.0-7.01',\n",
       "    'Value': '6.01'},\n",
       "   {'Item': 'Domestic Beer (0.5 liter bottle)',\n",
       "    'Range': '1.0-3.7',\n",
       "    'Value': '2.28'},\n",
       "   {'Item': 'Imported Beer (12 oz small bottle)',\n",
       "    'Range': '1.38-4.0',\n",
       "    'Value': '3.14'}]},\n",
       " {'Henderson': [{'Item': 'Domestic Beer (1 pint draught)',\n",
       "    'Range': '1.8-6.0',\n",
       "    'Value': '4.0'},\n",
       "   {'Item': 'Imported Beer (12 oz small bottle)',\n",
       "    'Range': '3.01-7.01',\n",
       "    'Value': '4.5'},\n",
       "   {'Item': 'Domestic Beer (0.5 liter bottle)',\n",
       "    'Range': '0.65-4.29',\n",
       "    'Value': '2.74'},\n",
       "   {'Item': 'Imported Beer (12 oz small bottle)',\n",
       "    'Range': '2.0-5.01',\n",
       "    'Value': '3.51'}]},\n",
       " {'Honolulu': [{'Item': 'Domestic Beer (1 pint draught)',\n",
       "    'Range': '4.0-7.5',\n",
       "    'Value': '6.01'},\n",
       "   {'Item': 'Imported Beer (12 oz small bottle)',\n",
       "    'Range': '8.01-10.01',\n",
       "    'Value': '9.01'},\n",
       "   {'Item': 'Domestic Beer (0.5 liter bottle)',\n",
       "    'Range': '1.72-4.29',\n",
       "    'Value': '3.41'},\n",
       "   {'Item': 'Imported Beer (12 oz small bottle)',\n",
       "    'Range': '1.38-5.0',\n",
       "    'Value': '2.86'}]},\n",
       " {'Houston': [{'Item': 'Domestic Beer (1 pint draught)',\n",
       "    'Range': '3.0-7.01',\n",
       "    'Value': '5.0'},\n",
       "   {'Item': 'Imported Beer (12 oz small bottle)',\n",
       "    'Range': '5.0-9.01',\n",
       "    'Value': '6.01'},\n",
       "   {'Item': 'Domestic Beer (0.5 liter bottle)',\n",
       "    'Range': '1.28-2.86',\n",
       "    'Value': '2.12'},\n",
       "   {'Item': 'Imported Beer (12 oz small bottle)',\n",
       "    'Range': '1.35-4.0',\n",
       "    'Value': '2.13'}]},\n",
       " {'Huntsville': [{'Item': 'Domestic Beer (1 pint draught)',\n",
       "    'Range': '3.0-6.01',\n",
       "    'Value': '4.0'},\n",
       "   {'Item': 'Imported Beer (12 oz small bottle)',\n",
       "    'Range': '4.0-6.01',\n",
       "    'Value': '5.0'},\n",
       "   {'Item': 'Domestic Beer (0.5 liter bottle)',\n",
       "    'Range': '1.79-4.29',\n",
       "    'Value': '3.82'},\n",
       "   {'Item': 'Imported Beer (12 oz small bottle)',\n",
       "    'Range': '2.5-4.5',\n",
       "    'Value': '3.67'}]},\n",
       " {'Indianapolis': [{'Item': 'Domestic Beer (1 pint draught)',\n",
       "    'Range': '3.0-7.01',\n",
       "    'Value': '4.5'},\n",
       "   {'Item': 'Imported Beer (12 oz small bottle)',\n",
       "    'Range': '5.0-9.01',\n",
       "    'Value': '6.01'},\n",
       "   {'Item': 'Domestic Beer (0.5 liter bottle)',\n",
       "    'Range': '1.25-3.57',\n",
       "    'Value': '2.61'},\n",
       "   {'Item': 'Imported Beer (12 oz small bottle)',\n",
       "    'Range': '2.0-4.0',\n",
       "    'Value': '2.5'}]},\n",
       " {'Irvine': [{'Item': 'Domestic Beer (1 pint draught)',\n",
       "    'Range': '5.0-9.01',\n",
       "    'Value': '7.01'},\n",
       "   {'Item': 'Imported Beer (12 oz small bottle)',\n",
       "    'Range': '5.0-10.01',\n",
       "    'Value': '8.01'},\n",
       "   {'Item': 'Domestic Beer (0.5 liter bottle)',\n",
       "    'Range': '1.32-2.86',\n",
       "    'Value': '2.6'},\n",
       "   {'Item': 'Imported Beer (12 oz small bottle)',\n",
       "    'Range': '0.99-3.0',\n",
       "    'Value': '2.0'}]},\n",
       " {'Jacksonville': [{'Item': 'Domestic Beer (1 pint draught)',\n",
       "    'Range': '3.0-6.01',\n",
       "    'Value': '4.5'},\n",
       "   {'Item': 'Imported Beer (12 oz small bottle)',\n",
       "    'Range': '5.0-8.01',\n",
       "    'Value': '6.01'},\n",
       "   {'Item': 'Domestic Beer (0.5 liter bottle)',\n",
       "    'Range': '1.5-3.57',\n",
       "    'Value': '2.56'},\n",
       "   {'Item': 'Imported Beer (12 oz small bottle)',\n",
       "    'Range': '1.5-5.0',\n",
       "    'Value': '2.88'}]},\n",
       " {'Jersey City': [{'Item': 'Domestic Beer (1 pint draught)',\n",
       "    'Range': '5.0-8.01',\n",
       "    'Value': '6.01'},\n",
       "   {'Item': 'Imported Beer (12 oz small bottle)',\n",
       "    'Range': '5.0-9.01',\n",
       "    'Value': '6.5'},\n",
       "   {'Item': 'Domestic Beer (0.5 liter bottle)',\n",
       "    'Range': '0.75-2.0',\n",
       "    'Value': '1.25'},\n",
       "   {'Item': 'Imported Beer (12 oz small bottle)',\n",
       "    'Range': '1.1-5.0',\n",
       "    'Value': '3.5'}]},\n",
       " {'Kansas City': [{'Item': 'Domestic Beer (1 pint draught)',\n",
       "    'Range': '3.0-7.01',\n",
       "    'Value': '4.0'},\n",
       "   {'Item': 'Imported Beer (12 oz small bottle)',\n",
       "    'Range': '4.0-6.5',\n",
       "    'Value': '5.0'},\n",
       "   {'Item': 'Domestic Beer (0.5 liter bottle)',\n",
       "    'Range': '1.28-2.86',\n",
       "    'Value': '1.99'},\n",
       "   {'Item': 'Imported Beer (12 oz small bottle)',\n",
       "    'Range': '1.25-3.0',\n",
       "    'Value': '2.25'}]},\n",
       " {'Knoxville': [{'Item': 'Domestic Beer (1 pint draught)',\n",
       "    'Range': '2.99-4.48',\n",
       "    'Value': '3.48'},\n",
       "   {'Item': 'Imported Beer (12 oz small bottle)',\n",
       "    'Range': '3.98-4.98',\n",
       "    'Value': '4.23'},\n",
       "   {'Item': 'Domestic Beer (0.5 liter bottle)',\n",
       "    'Range': '1.99-3.48',\n",
       "    'Value': '2.87'},\n",
       "   {'Item': 'Imported Beer (12 oz small bottle)',\n",
       "    'Range': '2.19-4.48',\n",
       "    'Value': '3.86'}]},\n",
       " {'Las Vegas': [{'Item': 'Domestic Beer (1 pint draught)',\n",
       "    'Range': '4.0-8.01',\n",
       "    'Value': '6.01'},\n",
       "   {'Item': 'Imported Beer (12 oz small bottle)',\n",
       "    'Range': '5.0-8.01',\n",
       "    'Value': '7.01'},\n",
       "   {'Item': 'Domestic Beer (0.5 liter bottle)',\n",
       "    'Range': '1.41-4.29',\n",
       "    'Value': '2.07'},\n",
       "   {'Item': 'Imported Beer (12 oz small bottle)',\n",
       "    'Range': '1.5-4.0',\n",
       "    'Value': '2.14'}]},\n",
       " {'Lexington': [{'Item': 'Domestic Beer (1 pint draught)',\n",
       "    'Range': '3.0-4.0',\n",
       "    'Value': '3.5'},\n",
       "   {'Item': 'Imported Beer (12 oz small bottle)',\n",
       "    'Range': '4.5-5.5',\n",
       "    'Value': '5.0'},\n",
       "   {'Item': 'Domestic Beer (0.5 liter bottle)',\n",
       "    'Range': '1.0-4.29',\n",
       "    'Value': '2.15'},\n",
       "   {'Item': 'Imported Beer (12 oz small bottle)',\n",
       "    'Range': '1.5-5.0',\n",
       "    'Value': '2.65'}]},\n",
       " {'Little Rock': [{'Item': 'Domestic Beer (1 pint draught)',\n",
       "    'Range': '4.0-8.01',\n",
       "    'Value': '4.5'},\n",
       "   {'Item': 'Imported Beer (12 oz small bottle)',\n",
       "    'Range': '5.0-10.01',\n",
       "    'Value': '6.01'},\n",
       "   {'Item': 'Domestic Beer (0.5 liter bottle)',\n",
       "    'Range': '1.0-2.5',\n",
       "    'Value': '2.0'},\n",
       "   {'Item': 'Imported Beer (12 oz small bottle)',\n",
       "    'Range': '1.5-3.5',\n",
       "    'Value': '2.5'}]},\n",
       " {'Long Beach': [{'Item': 'Domestic Beer (1 pint draught)',\n",
       "    'Range': '3.0-10.01',\n",
       "    'Value': '7.01'},\n",
       "   {'Item': 'Imported Beer (12 oz small bottle)',\n",
       "    'Range': '8.01-15.01',\n",
       "    'Value': '9.01'},\n",
       "   {'Item': 'Domestic Beer (0.5 liter bottle)',\n",
       "    'Range': '2.83-2.85',\n",
       "    'Value': '2.84'},\n",
       "   {'Item': 'Imported Beer (12 oz small bottle)',\n",
       "    'Range': '2.5-3.0',\n",
       "    'Value': '2.83'}]},\n",
       " {'Los Angeles': [{'Item': 'Domestic Beer (1 pint draught)',\n",
       "    'Range': '5.0-10.01',\n",
       "    'Value': '7.01'},\n",
       "   {'Item': 'Imported Beer (12 oz small bottle)',\n",
       "    'Range': '6.01-11.01',\n",
       "    'Value': '8.01'},\n",
       "   {'Item': 'Domestic Beer (0.5 liter bottle)',\n",
       "    'Range': '1.42-4.29',\n",
       "    'Value': '2.47'},\n",
       "   {'Item': 'Imported Beer (12 oz small bottle)',\n",
       "    'Range': '1.5-3.76',\n",
       "    'Value': '2.39'}]},\n",
       " {'Louisville': [{'Item': 'Domestic Beer (1 pint draught)',\n",
       "    'Range': '3.0-8.01',\n",
       "    'Value': '5.0'},\n",
       "   {'Item': 'Imported Beer (12 oz small bottle)',\n",
       "    'Range': '4.5-7.5',\n",
       "    'Value': '6.01'},\n",
       "   {'Item': 'Domestic Beer (0.5 liter bottle)',\n",
       "    'Range': '1.42-2.86',\n",
       "    'Value': '1.88'},\n",
       "   {'Item': 'Imported Beer (12 oz small bottle)',\n",
       "    'Range': '1.75-4.0',\n",
       "    'Value': '2.66'}]},\n",
       " {'Madison': [{'Item': 'Domestic Beer (1 pint draught)',\n",
       "    'Range': '4.0-5.0',\n",
       "    'Value': '4.5'},\n",
       "   {'Item': 'Imported Beer (12 oz small bottle)',\n",
       "    'Range': '5.0-6.01',\n",
       "    'Value': '5.5'},\n",
       "   {'Item': 'Domestic Beer (0.5 liter bottle)',\n",
       "    'Range': '1.07-2.86',\n",
       "    'Value': '1.91'},\n",
       "   {'Item': 'Imported Beer (12 oz small bottle)',\n",
       "    'Range': '1.2-5.0',\n",
       "    'Value': '2.91'}]},\n",
       " {'Memphis': [{'Item': 'Domestic Beer (1 pint draught)',\n",
       "    'Range': '2.5-7.09',\n",
       "    'Value': '4.5'},\n",
       "   {'Item': 'Imported Beer (12 oz small bottle)',\n",
       "    'Range': '3.76-8.01',\n",
       "    'Value': '6.01'},\n",
       "   {'Item': 'Domestic Beer (0.5 liter bottle)',\n",
       "    'Range': '1.0-3.56',\n",
       "    'Value': '2.03'},\n",
       "   {'Item': 'Imported Beer (12 oz small bottle)',\n",
       "    'Range': '1.5-5.0',\n",
       "    'Value': '3.49'}]},\n",
       " {'Miami': [{'Item': 'Domestic Beer (1 pint draught)',\n",
       "    'Range': '3.0-8.01',\n",
       "    'Value': '6.01'},\n",
       "   {'Item': 'Imported Beer (12 oz small bottle)',\n",
       "    'Range': '5.0-12.01',\n",
       "    'Value': '8.01'},\n",
       "   {'Item': 'Domestic Beer (0.5 liter bottle)',\n",
       "    'Range': '1.42-4.29',\n",
       "    'Value': '2.65'},\n",
       "   {'Item': 'Imported Beer (12 oz small bottle)',\n",
       "    'Range': '1.5-4.0',\n",
       "    'Value': '2.71'}]},\n",
       " {'Milwaukee': [{'Item': 'Domestic Beer (1 pint draught)',\n",
       "    'Range': '3.0-5.0',\n",
       "    'Value': '4.0'},\n",
       "   {'Item': 'Imported Beer (12 oz small bottle)',\n",
       "    'Range': '6.01-7.01',\n",
       "    'Value': '6.5'},\n",
       "   {'Item': 'Domestic Beer (0.5 liter bottle)',\n",
       "    'Range': '0.87-2.86',\n",
       "    'Value': '2.04'},\n",
       "   {'Item': 'Imported Beer (12 oz small bottle)',\n",
       "    'Range': '1.5-4.0',\n",
       "    'Value': '2.38'}]},\n",
       " {'Minneapolis': [{'Item': 'Domestic Beer (1 pint draught)',\n",
       "    'Range': '4.0-8.01',\n",
       "    'Value': '6.01'},\n",
       "   {'Item': 'Imported Beer (12 oz small bottle)',\n",
       "    'Range': '5.0-9.01',\n",
       "    'Value': '6.88'},\n",
       "   {'Item': 'Domestic Beer (0.5 liter bottle)',\n",
       "    'Range': '1.25-2.86',\n",
       "    'Value': '2.19'},\n",
       "   {'Item': 'Imported Beer (12 oz small bottle)',\n",
       "    'Range': '1.2-5.0',\n",
       "    'Value': '3.03'}]},\n",
       " {'Nashville': [{'Item': 'Domestic Beer (1 pint draught)',\n",
       "    'Range': '4.5-6.01',\n",
       "    'Value': '5.0'},\n",
       "   {'Item': 'Imported Beer (12 oz small bottle)',\n",
       "    'Range': '5.5-8.01',\n",
       "    'Value': '7.01'},\n",
       "   {'Item': 'Domestic Beer (0.5 liter bottle)',\n",
       "    'Range': '1.42-2.86',\n",
       "    'Value': '2.07'},\n",
       "   {'Item': 'Imported Beer (12 oz small bottle)',\n",
       "    'Range': '1.54-3.5',\n",
       "    'Value': '2.4'}]},\n",
       " {'New Orleans': [{'Item': 'Domestic Beer (1 pint draught)',\n",
       "    'Range': '2.0-6.01',\n",
       "    'Value': '3.5'},\n",
       "   {'Item': 'Imported Beer (12 oz small bottle)',\n",
       "    'Range': '3.25-8.01',\n",
       "    'Value': '6.01'},\n",
       "   {'Item': 'Domestic Beer (0.5 liter bottle)',\n",
       "    'Range': '2.1-4.29',\n",
       "    'Value': '3.29'},\n",
       "   {'Item': 'Imported Beer (12 oz small bottle)',\n",
       "    'Range': '2.5-4.5',\n",
       "    'Value': '3.5'}]},\n",
       " {'New York': [{'Item': 'Domestic Beer (1 pint draught)',\n",
       "    'Range': '4.5-10.01',\n",
       "    'Value': '7.21'},\n",
       "   {'Item': 'Imported Beer (12 oz small bottle)',\n",
       "    'Range': '7.01-15.01',\n",
       "    'Value': '9.01'},\n",
       "   {'Item': 'Domestic Beer (0.5 liter bottle)',\n",
       "    'Range': '1.86-4.29',\n",
       "    'Value': '3.12'},\n",
       "   {'Item': 'Imported Beer (12 oz small bottle)',\n",
       "    'Range': '2.0-5.0',\n",
       "    'Value': '3.18'}]},\n",
       " {'Oakland': [{'Item': 'Domestic Beer (1 pint draught)',\n",
       "    'Range': '3.5-8.01',\n",
       "    'Value': '6.01'},\n",
       "   {'Item': 'Imported Beer (12 oz small bottle)',\n",
       "    'Range': '5.0-11.01',\n",
       "    'Value': '7.01'},\n",
       "   {'Item': 'Domestic Beer (0.5 liter bottle)',\n",
       "    'Range': '1.42-2.86',\n",
       "    'Value': '2.51'},\n",
       "   {'Item': 'Imported Beer (12 oz small bottle)',\n",
       "    'Range': '2.0-3.0',\n",
       "    'Value': '2.67'}]},\n",
       " {'Oklahoma City': [{'Item': 'Domestic Beer (1 pint draught)',\n",
       "    'Range': '2.5-4.5',\n",
       "    'Value': '3.0'},\n",
       "   {'Item': 'Imported Beer (12 oz small bottle)',\n",
       "    'Range': '4.0-7.01',\n",
       "    'Value': '5.0'},\n",
       "   {'Item': 'Domestic Beer (0.5 liter bottle)',\n",
       "    'Range': '1.42-3.57',\n",
       "    'Value': '2.33'},\n",
       "   {'Item': 'Imported Beer (12 oz small bottle)',\n",
       "    'Range': '1.25-4.2',\n",
       "    'Value': '2.93'}]},\n",
       " {'Olympia': [{'Item': 'Domestic Beer (1 pint draught)',\n",
       "    'Range': '4.0-5.0',\n",
       "    'Value': '4.87'},\n",
       "   {'Item': 'Imported Beer (12 oz small bottle)',\n",
       "    'Range': '4.5-10.01',\n",
       "    'Value': '6.01'},\n",
       "   {'Item': 'Domestic Beer (0.5 liter bottle)',\n",
       "    'Range': '1.42-3.57',\n",
       "    'Value': '2.98'},\n",
       "   {'Item': 'Imported Beer (12 oz small bottle)',\n",
       "    'Range': '2.0-4.0',\n",
       "    'Value': '3.84'}]},\n",
       " {'Omaha': [{'Item': 'Domestic Beer (1 pint draught)',\n",
       "    'Range': '2.5-7.01',\n",
       "    'Value': '5.0'},\n",
       "   {'Item': 'Imported Beer (12 oz small bottle)',\n",
       "    'Range': '5.0-8.01',\n",
       "    'Value': '6.5'},\n",
       "   {'Item': 'Domestic Beer (0.5 liter bottle)',\n",
       "    'Range': '1.21-4.29',\n",
       "    'Value': '2.15'},\n",
       "   {'Item': 'Imported Beer (12 oz small bottle)',\n",
       "    'Range': '1.75-3.0',\n",
       "    'Value': '2.15'}]},\n",
       " {'Orlando': [{'Item': 'Domestic Beer (1 pint draught)',\n",
       "    'Range': '3.0-6.01',\n",
       "    'Value': '4.0'},\n",
       "   {'Item': 'Imported Beer (12 oz small bottle)',\n",
       "    'Range': '4.0-8.01',\n",
       "    'Value': '6.01'},\n",
       "   {'Item': 'Domestic Beer (0.5 liter bottle)',\n",
       "    'Range': '1.28-4.29',\n",
       "    'Value': '1.84'},\n",
       "   {'Item': 'Imported Beer (12 oz small bottle)',\n",
       "    'Range': '1.3-3.0',\n",
       "    'Value': '2.2'}]},\n",
       " {'Philadelphia': [{'Item': 'Domestic Beer (1 pint draught)',\n",
       "    'Range': '3.0-8.01',\n",
       "    'Value': '5.0'},\n",
       "   {'Item': 'Imported Beer (12 oz small bottle)',\n",
       "    'Range': '5.0-10.01',\n",
       "    'Value': '7.01'},\n",
       "   {'Item': 'Domestic Beer (0.5 liter bottle)',\n",
       "    'Range': '2.14-5.43',\n",
       "    'Value': '4.0'},\n",
       "   {'Item': 'Imported Beer (12 oz small bottle)',\n",
       "    'Range': '2.0-4.99',\n",
       "    'Value': '3.64'}]},\n",
       " {'Phoenix': [{'Item': 'Domestic Beer (1 pint draught)',\n",
       "    'Range': '3.0-8.01',\n",
       "    'Value': '5.0'},\n",
       "   {'Item': 'Imported Beer (12 oz small bottle)',\n",
       "    'Range': '5.0-10.01',\n",
       "    'Value': '7.01'},\n",
       "   {'Item': 'Domestic Beer (0.5 liter bottle)',\n",
       "    'Range': '1.14-3.21',\n",
       "    'Value': '1.97'},\n",
       "   {'Item': 'Imported Beer (12 oz small bottle)',\n",
       "    'Range': '1.0-4.76',\n",
       "    'Value': '2.05'}]},\n",
       " {'Pittsburgh': [{'Item': 'Domestic Beer (1 pint draught)',\n",
       "    'Range': '2.5-5.0',\n",
       "    'Value': '3.5'},\n",
       "   {'Item': 'Imported Beer (12 oz small bottle)',\n",
       "    'Range': '4.0-6.5',\n",
       "    'Value': '5.5'},\n",
       "   {'Item': 'Domestic Beer (0.5 liter bottle)',\n",
       "    'Range': '1.42-5.0',\n",
       "    'Value': '2.38'},\n",
       "   {'Item': 'Imported Beer (12 oz small bottle)',\n",
       "    'Range': '2.0-5.0',\n",
       "    'Value': '3.25'}]},\n",
       " {'Portland': [{'Item': 'Domestic Beer (1 pint draught)',\n",
       "    'Range': '3.5-7.5',\n",
       "    'Value': '6.01'},\n",
       "   {'Item': 'Imported Beer (12 oz small bottle)',\n",
       "    'Range': '4.0-8.01',\n",
       "    'Value': '6.01'},\n",
       "   {'Item': 'Domestic Beer (0.5 liter bottle)',\n",
       "    'Range': '2.14-5.72',\n",
       "    'Value': '3.2'},\n",
       "   {'Item': 'Imported Beer (12 oz small bottle)',\n",
       "    'Range': '2.0-5.0',\n",
       "    'Value': '3.79'}]},\n",
       " {'Queens': [{'Item': 'Domestic Beer (1 pint draught)',\n",
       "    'Range': '3.0-8.01',\n",
       "    'Value': '6.01'},\n",
       "   {'Item': 'Imported Beer (12 oz small bottle)',\n",
       "    'Range': '4.5-8.01',\n",
       "    'Value': '7.01'},\n",
       "   {'Item': 'Domestic Beer (0.5 liter bottle)',\n",
       "    'Range': '2.14-5.72',\n",
       "    'Value': '2.59'},\n",
       "   {'Item': 'Imported Beer (12 oz small bottle)',\n",
       "    'Range': '2.5-6.01',\n",
       "    'Value': '4.25'}]},\n",
       " {'Raleigh': [{'Item': 'Domestic Beer (1 pint draught)',\n",
       "    'Range': '3.5-6.01',\n",
       "    'Value': '5.0'},\n",
       "   {'Item': 'Imported Beer (12 oz small bottle)',\n",
       "    'Range': '5.0-7.01',\n",
       "    'Value': '6.01'},\n",
       "   {'Item': 'Domestic Beer (0.5 liter bottle)',\n",
       "    'Range': '1.42-4.29',\n",
       "    'Value': '2.73'},\n",
       "   {'Item': 'Imported Beer (12 oz small bottle)',\n",
       "    'Range': '1.25-4.0',\n",
       "    'Value': '2.67'}]},\n",
       " {'Reno': [{'Item': 'Domestic Beer (1 pint draught)',\n",
       "    'Range': '3.0-6.01',\n",
       "    'Value': '4.5'},\n",
       "   {'Item': 'Imported Beer (12 oz small bottle)',\n",
       "    'Range': '4.0-8.01',\n",
       "    'Value': '5.0'},\n",
       "   {'Item': 'Domestic Beer (0.5 liter bottle)',\n",
       "    'Range': '1.04-2.86',\n",
       "    'Value': '2.03'},\n",
       "   {'Item': 'Imported Beer (12 oz small bottle)',\n",
       "    'Range': '1.5-7.01',\n",
       "    'Value': '3.45'}]},\n",
       " {'Richmond': [{'Item': 'Domestic Beer (1 pint draught)',\n",
       "    'Range': '4.0-9.01',\n",
       "    'Value': '7.01'},\n",
       "   {'Item': 'Imported Beer (12 oz small bottle)',\n",
       "    'Range': '5.0-12.01',\n",
       "    'Value': '8.01'},\n",
       "   {'Item': 'Domestic Beer (0.5 liter bottle)',\n",
       "    'Range': '1.42-4.27',\n",
       "    'Value': '2.94'},\n",
       "   {'Item': 'Imported Beer (12 oz small bottle)',\n",
       "    'Range': '2.0-5.0',\n",
       "    'Value': '3.31'}]},\n",
       " {'Rochester': [{'Item': 'Domestic Beer (1 pint draught)',\n",
       "    'Range': '4.0-6.01',\n",
       "    'Value': '4.99'},\n",
       "   {'Item': 'Imported Beer (12 oz small bottle)',\n",
       "    'Range': '5.0-8.01',\n",
       "    'Value': '6.5'},\n",
       "   {'Item': 'Domestic Beer (0.5 liter bottle)',\n",
       "    'Range': '2.0-4.29',\n",
       "    'Value': '3.63'},\n",
       "   {'Item': 'Imported Beer (12 oz small bottle)',\n",
       "    'Range': '3.0-4.0',\n",
       "    'Value': '3.67'}]},\n",
       " {'Sacramento': [{'Item': 'Domestic Beer (1 pint draught)',\n",
       "    'Range': '3.5-10.01',\n",
       "    'Value': '5.0'},\n",
       "   {'Item': 'Imported Beer (12 oz small bottle)',\n",
       "    'Range': '4.0-7.01',\n",
       "    'Value': '5.96'},\n",
       "   {'Item': 'Domestic Beer (0.5 liter bottle)',\n",
       "    'Range': '1.42-3.99',\n",
       "    'Value': '2.25'},\n",
       "   {'Item': 'Imported Beer (12 oz small bottle)',\n",
       "    'Range': '1.5-3.5',\n",
       "    'Value': '2.18'}]},\n",
       " {'Saint Louis': [{'Item': 'Domestic Beer (1 pint draught)',\n",
       "    'Range': '3.0-8.01',\n",
       "    'Value': '4.5'},\n",
       "   {'Item': 'Imported Beer (12 oz small bottle)',\n",
       "    'Range': '5.0-8.01',\n",
       "    'Value': '5.5'},\n",
       "   {'Item': 'Domestic Beer (0.5 liter bottle)',\n",
       "    'Range': '1.79-2.86',\n",
       "    'Value': '2.45'},\n",
       "   {'Item': 'Imported Beer (12 oz small bottle)',\n",
       "    'Range': '1.99-3.0',\n",
       "    'Value': '2.67'}]},\n",
       " {'Saint Paul': [{'Item': 'Domestic Beer (1 pint draught)',\n",
       "    'Range': '3.0-5.0',\n",
       "    'Value': '5.0'},\n",
       "   {'Item': 'Imported Beer (12 oz small bottle)',\n",
       "    'Range': '5.0-12.01',\n",
       "    'Value': '6.5'},\n",
       "   {'Item': 'Domestic Beer (0.5 liter bottle)',\n",
       "    'Range': '1.27-4.29',\n",
       "    'Value': '2.88'},\n",
       "   {'Item': 'Imported Beer (12 oz small bottle)',\n",
       "    'Range': '1.8-4.0',\n",
       "    'Value': '3.06'}]},\n",
       " {'Salem': [{'Item': 'Domestic Beer (1 pint draught)',\n",
       "    'Range': '3.9-7.01',\n",
       "    'Value': '4.87'},\n",
       "   {'Item': 'Imported Beer (12 oz small bottle)',\n",
       "    'Range': '6.01-8.01',\n",
       "    'Value': '6.01'},\n",
       "   {'Item': 'Domestic Beer (0.5 liter bottle)',\n",
       "    'Range': '2.13-3.57',\n",
       "    'Value': '2.61'},\n",
       "   {'Item': 'Imported Beer (12 oz small bottle)',\n",
       "    'Range': '1.99-3.5',\n",
       "    'Value': '2.74'}]},\n",
       " {'Salt Lake City': [{'Item': 'Domestic Beer (1 pint draught)',\n",
       "    'Range': '4.0-8.01',\n",
       "    'Value': '5.0'},\n",
       "   {'Item': 'Imported Beer (12 oz small bottle)',\n",
       "    'Range': '5.0-10.01',\n",
       "    'Value': '6.5'},\n",
       "   {'Item': 'Domestic Beer (0.5 liter bottle)',\n",
       "    'Range': '0.66-4.29',\n",
       "    'Value': '1.85'},\n",
       "   {'Item': 'Imported Beer (12 oz small bottle)',\n",
       "    'Range': '1.4-4.0',\n",
       "    'Value': '2.45'}]},\n",
       " {'San Antonio': [{'Item': 'Domestic Beer (1 pint draught)',\n",
       "    'Range': '3.0-6.01',\n",
       "    'Value': '3.6'},\n",
       "   {'Item': 'Imported Beer (12 oz small bottle)',\n",
       "    'Range': '4.0-7.01',\n",
       "    'Value': '6.01'},\n",
       "   {'Item': 'Domestic Beer (0.5 liter bottle)',\n",
       "    'Range': '1.19-3.57',\n",
       "    'Value': '2.61'},\n",
       "   {'Item': 'Imported Beer (12 oz small bottle)',\n",
       "    'Range': '1.6-3.5',\n",
       "    'Value': '2.43'}]},\n",
       " {'San Diego': [{'Item': 'Domestic Beer (1 pint draught)',\n",
       "    'Range': '5.0-8.01',\n",
       "    'Value': '6.01'},\n",
       "   {'Item': 'Imported Beer (12 oz small bottle)',\n",
       "    'Range': '6.01-10.01',\n",
       "    'Value': '8.01'},\n",
       "   {'Item': 'Domestic Beer (0.5 liter bottle)',\n",
       "    'Range': '1.42-4.29',\n",
       "    'Value': '3.24'},\n",
       "   {'Item': 'Imported Beer (12 oz small bottle)',\n",
       "    'Range': '1.5-3.5',\n",
       "    'Value': '2.08'}]},\n",
       " {'San Francisco': [{'Item': 'Domestic Beer (1 pint draught)',\n",
       "    'Range': '5.0-9.01',\n",
       "    'Value': '7.76'},\n",
       "   {'Item': 'Imported Beer (12 oz small bottle)',\n",
       "    'Range': '7.01-12.01',\n",
       "    'Value': '8.01'},\n",
       "   {'Item': 'Domestic Beer (0.5 liter bottle)',\n",
       "    'Range': '1.79-4.29',\n",
       "    'Value': '2.9'},\n",
       "   {'Item': 'Imported Beer (12 oz small bottle)',\n",
       "    'Range': '1.5-5.0',\n",
       "    'Value': '3.19'}]},\n",
       " {'San Jose': [{'Item': 'Domestic Beer (1 pint draught)',\n",
       "    'Range': '5.0-8.01',\n",
       "    'Value': '6.76'},\n",
       "   {'Item': 'Imported Beer (12 oz small bottle)',\n",
       "    'Range': '6.01-12.01',\n",
       "    'Value': '8.01'},\n",
       "   {'Item': 'Domestic Beer (0.5 liter bottle)',\n",
       "    'Range': '1.42-4.29',\n",
       "    'Value': '2.94'},\n",
       "   {'Item': 'Imported Beer (12 oz small bottle)',\n",
       "    'Range': '2.0-4.0',\n",
       "    'Value': '3.0'}]},\n",
       " {'Santa Barbara': [{'Item': 'Domestic Beer (1 pint draught)',\n",
       "    'Range': '5.0-8.01',\n",
       "    'Value': '7.01'},\n",
       "   {'Item': 'Imported Beer (12 oz small bottle)',\n",
       "    'Range': '5.0-9.01',\n",
       "    'Value': '8.01'},\n",
       "   {'Item': 'Domestic Beer (0.5 liter bottle)',\n",
       "    'Range': '2.86-5.72',\n",
       "    'Value': '3.73'},\n",
       "   {'Item': 'Imported Beer (12 oz small bottle)',\n",
       "    'Range': '2.0-3.0',\n",
       "    'Value': '2.54'}]},\n",
       " {'Seattle': [{'Item': 'Domestic Beer (1 pint draught)',\n",
       "    'Range': '5.0-9.01',\n",
       "    'Value': '6.01'},\n",
       "   {'Item': 'Imported Beer (12 oz small bottle)',\n",
       "    'Range': '6.01-10.01',\n",
       "    'Value': '7.01'},\n",
       "   {'Item': 'Domestic Beer (0.5 liter bottle)',\n",
       "    'Range': '1.42-5.0',\n",
       "    'Value': '3.12'},\n",
       "   {'Item': 'Imported Beer (12 oz small bottle)',\n",
       "    'Range': '1.6-5.0',\n",
       "    'Value': '3.17'}]},\n",
       " {'Spokane': [{'Item': 'Domestic Beer (1 pint draught)',\n",
       "    'Range': '3.76-6.01',\n",
       "    'Value': '5.0'},\n",
       "   {'Item': 'Imported Beer (12 oz small bottle)',\n",
       "    'Range': '4.5-7.5',\n",
       "    'Value': '6.01'},\n",
       "   {'Item': 'Domestic Beer (0.5 liter bottle)',\n",
       "    'Range': '0.98-2.5',\n",
       "    'Value': '1.67'},\n",
       "   {'Item': 'Imported Beer (12 oz small bottle)',\n",
       "    'Range': '1.5-4.5',\n",
       "    'Value': '2.41'}]},\n",
       " {'Tacoma': [{'Item': 'Domestic Beer (1 pint draught)',\n",
       "    'Range': '3.5-6.01',\n",
       "    'Value': '4.25'},\n",
       "   {'Item': 'Imported Beer (12 oz small bottle)',\n",
       "    'Range': '5.0-7.01',\n",
       "    'Value': '5.51'},\n",
       "   {'Item': 'Domestic Beer (0.5 liter bottle)',\n",
       "    'Range': '1.43-2.5',\n",
       "    'Value': '2.16'},\n",
       "   {'Item': 'Imported Beer (12 oz small bottle)',\n",
       "    'Range': '1.67-2.25',\n",
       "    'Value': '1.87'}]},\n",
       " {'Tampa': [{'Item': 'Domestic Beer (1 pint draught)',\n",
       "    'Range': '2.5-12.01',\n",
       "    'Value': '5.0'},\n",
       "   {'Item': 'Imported Beer (12 oz small bottle)',\n",
       "    'Range': '4.0-8.01',\n",
       "    'Value': '6.01'},\n",
       "   {'Item': 'Domestic Beer (0.5 liter bottle)',\n",
       "    'Range': '1.42-4.29',\n",
       "    'Value': '2.66'},\n",
       "   {'Item': 'Imported Beer (12 oz small bottle)',\n",
       "    'Range': '1.25-4.99',\n",
       "    'Value': '2.45'}]},\n",
       " {'Tucson': [{'Item': 'Domestic Beer (1 pint draught)',\n",
       "    'Range': '3.5-7.01',\n",
       "    'Value': '4.0'},\n",
       "   {'Item': 'Imported Beer (12 oz small bottle)',\n",
       "    'Range': '5.0-7.01',\n",
       "    'Value': '5.0'},\n",
       "   {'Item': 'Domestic Beer (0.5 liter bottle)',\n",
       "    'Range': '1.28-2.86',\n",
       "    'Value': '2.28'},\n",
       "   {'Item': 'Imported Beer (12 oz small bottle)',\n",
       "    'Range': '1.3-6.01',\n",
       "    'Value': '3.73'}]},\n",
       " {'Tulsa': [{'Item': 'Domestic Beer (1 pint draught)',\n",
       "    'Range': '3.0-5.5',\n",
       "    'Value': '4.0'},\n",
       "   {'Item': 'Imported Beer (12 oz small bottle)',\n",
       "    'Range': '5.0-8.01',\n",
       "    'Value': '5.5'},\n",
       "   {'Item': 'Domestic Beer (0.5 liter bottle)',\n",
       "    'Range': '1.42-4.29',\n",
       "    'Value': '2.54'},\n",
       "   {'Item': 'Imported Beer (12 oz small bottle)',\n",
       "    'Range': '1.5-6.5',\n",
       "    'Value': '2.59'}]},\n",
       " {'Vancouver': [{'Item': 'Domestic Beer (1 pint draught)',\n",
       "    'Range': '3.0-8.01',\n",
       "    'Value': '5.0'},\n",
       "   {'Item': 'Imported Beer (12 oz small bottle)',\n",
       "    'Range': '4.5-7.5',\n",
       "    'Value': '5.76'},\n",
       "   {'Item': 'Domestic Beer (0.5 liter bottle)',\n",
       "    'Range': '1.39-4.29',\n",
       "    'Value': '2.37'},\n",
       "   {'Item': 'Imported Beer (12 oz small bottle)',\n",
       "    'Range': '1.5-4.99',\n",
       "    'Value': '4.0'}]},\n",
       " {'Washington': [{'Item': 'Domestic Beer (1 pint draught)',\n",
       "    'Range': '5.0-9.01',\n",
       "    'Value': '6.01'},\n",
       "   {'Item': 'Imported Beer (12 oz small bottle)',\n",
       "    'Range': '7.01-10.01',\n",
       "    'Value': '8.01'},\n",
       "   {'Item': 'Domestic Beer (0.5 liter bottle)',\n",
       "    'Range': '1.42-4.29',\n",
       "    'Value': '2.85'},\n",
       "   {'Item': 'Imported Beer (12 oz small bottle)',\n",
       "    'Range': '1.5-4.0',\n",
       "    'Value': '2.74'}]},\n",
       " {'Wichita': [{'Item': 'Domestic Beer (1 pint draught)',\n",
       "    'Range': '3.0-5.0',\n",
       "    'Value': '3.87'},\n",
       "   {'Item': 'Imported Beer (12 oz small bottle)',\n",
       "    'Range': '4.0-8.0',\n",
       "    'Value': '5.0'},\n",
       "   {'Item': 'Domestic Beer (0.5 liter bottle)',\n",
       "    'Range': '1.32-2.86',\n",
       "    'Value': '1.92'},\n",
       "   {'Item': 'Imported Beer (12 oz small bottle)',\n",
       "    'Range': '1.0-4.0',\n",
       "    'Value': '2.08'}]}]"
      ]
     },
     "execution_count": 3,
     "metadata": {},
     "output_type": "execute_result"
    }
   ],
   "source": [
    "p = re.compile('(?<!\\\\\\\\)\\'')\n",
    "\n",
    "beer_cities = []\n",
    "\n",
    "for index, row in df.iterrows():\n",
    "    city_beer = {row['name']:[]}\n",
    "    string = p.sub('\\\"', row['cost_of_living_details'])\n",
    "    details = json.loads(string)[0]['details']\n",
    "    for item in details:\n",
    "        if 'Beer' in item['Item']:\n",
    "            city_beer[row['name']].append(item)\n",
    "    beer_cities.append(city_beer)\n",
    "beer_cities"
   ]
  },
  {
   "cell_type": "code",
   "execution_count": 4,
   "metadata": {},
   "outputs": [],
   "source": [
    "draught = []\n",
    "for index, row in df.iterrows():\n",
    "    string = p.sub('\\\"', row['cost_of_living_details'])\n",
    "    details = json.loads(string)[0]['details']\n",
    "    for item in details:\n",
    "        if 'Domestic Beer (1 pint draught' in item['Item']:\n",
    "                city_beer = {'city':row['name'],'state':row['us_state'],'draught_value':float(item['Value'])}\n",
    "    draught.append(city_beer)"
   ]
  },
  {
   "cell_type": "code",
   "execution_count": 7,
   "metadata": {},
   "outputs": [
    {
     "data": {
      "text/html": [
       "<div>\n",
       "<style scoped>\n",
       "    .dataframe tbody tr th:only-of-type {\n",
       "        vertical-align: middle;\n",
       "    }\n",
       "\n",
       "    .dataframe tbody tr th {\n",
       "        vertical-align: top;\n",
       "    }\n",
       "\n",
       "    .dataframe thead th {\n",
       "        text-align: right;\n",
       "    }\n",
       "</style>\n",
       "<table border=\"1\" class=\"dataframe\">\n",
       "  <thead>\n",
       "    <tr style=\"text-align: right;\">\n",
       "      <th></th>\n",
       "      <th>state</th>\n",
       "      <th>draught_value</th>\n",
       "    </tr>\n",
       "    <tr>\n",
       "      <th>city</th>\n",
       "      <th></th>\n",
       "      <th></th>\n",
       "    </tr>\n",
       "  </thead>\n",
       "  <tbody>\n",
       "    <tr>\n",
       "      <th>San Francisco</th>\n",
       "      <td>CA</td>\n",
       "      <td>7.76</td>\n",
       "    </tr>\n",
       "    <tr>\n",
       "      <th>New York</th>\n",
       "      <td>NY</td>\n",
       "      <td>7.21</td>\n",
       "    </tr>\n",
       "    <tr>\n",
       "      <th>Richmond</th>\n",
       "      <td>VA</td>\n",
       "      <td>7.01</td>\n",
       "    </tr>\n",
       "    <tr>\n",
       "      <th>Long Beach</th>\n",
       "      <td>CA</td>\n",
       "      <td>7.01</td>\n",
       "    </tr>\n",
       "    <tr>\n",
       "      <th>Los Angeles</th>\n",
       "      <td>CA</td>\n",
       "      <td>7.01</td>\n",
       "    </tr>\n",
       "    <tr>\n",
       "      <th>...</th>\n",
       "      <td>...</td>\n",
       "      <td>...</td>\n",
       "    </tr>\n",
       "    <tr>\n",
       "      <th>Knoxville</th>\n",
       "      <td>TN</td>\n",
       "      <td>3.48</td>\n",
       "    </tr>\n",
       "    <tr>\n",
       "      <th>Oklahoma City</th>\n",
       "      <td>OK</td>\n",
       "      <td>3.00</td>\n",
       "    </tr>\n",
       "    <tr>\n",
       "      <th>Fort Worth</th>\n",
       "      <td>TX</td>\n",
       "      <td>3.00</td>\n",
       "    </tr>\n",
       "    <tr>\n",
       "      <th>Akron</th>\n",
       "      <td>OH</td>\n",
       "      <td>3.00</td>\n",
       "    </tr>\n",
       "    <tr>\n",
       "      <th>El Paso</th>\n",
       "      <td>TX</td>\n",
       "      <td>2.80</td>\n",
       "    </tr>\n",
       "  </tbody>\n",
       "</table>\n",
       "<p>95 rows × 2 columns</p>\n",
       "</div>"
      ],
      "text/plain": [
       "              state  draught_value\n",
       "city                              \n",
       "San Francisco    CA           7.76\n",
       "New York         NY           7.21\n",
       "Richmond         VA           7.01\n",
       "Long Beach       CA           7.01\n",
       "Los Angeles      CA           7.01\n",
       "...             ...            ...\n",
       "Knoxville        TN           3.48\n",
       "Oklahoma City    OK           3.00\n",
       "Fort Worth       TX           3.00\n",
       "Akron            OH           3.00\n",
       "El Paso          TX           2.80\n",
       "\n",
       "[95 rows x 2 columns]"
      ]
     },
     "execution_count": 7,
     "metadata": {},
     "output_type": "execute_result"
    }
   ],
   "source": [
    "beer_df = pd.DataFrame(draught)\\\n",
    "            .sort_values('draught_value', ascending=False)\\\n",
    "            .set_index('city')\n",
    "beer_df"
   ]
  },
  {
   "cell_type": "code",
   "execution_count": 10,
   "metadata": {},
   "outputs": [
    {
     "data": {
      "text/plain": [
       "<matplotlib.axes._subplots.AxesSubplot at 0x7fa787440f10>"
      ]
     },
     "execution_count": 10,
     "metadata": {},
     "output_type": "execute_result"
    },
    {
     "data": {
      "image/png": "[encoded data removed]",
      "text/plain": [
       "<Figure size 1440x360 with 1 Axes>"
      ]
     },
     "metadata": {
      "needs_background": "light"
     },
     "output_type": "display_data"
    }
   ],
   "source": [
    "beer_df['draught_value'].plot.bar(figsize=(20,5))"
   ]
  },
  {
   "cell_type": "markdown",
   "metadata": {},
   "source": [
    "# State level"
   ]
  },
  {
   "cell_type": "code",
   "execution_count": 13,
   "metadata": {},
   "outputs": [
    {
     "data": {
      "text/html": [
       "<div>\n",
       "<style scoped>\n",
       "    .dataframe tbody tr th:only-of-type {\n",
       "        vertical-align: middle;\n",
       "    }\n",
       "\n",
       "    .dataframe tbody tr th {\n",
       "        vertical-align: top;\n",
       "    }\n",
       "\n",
       "    .dataframe thead th {\n",
       "        text-align: right;\n",
       "    }\n",
       "</style>\n",
       "<table border=\"1\" class=\"dataframe\">\n",
       "  <thead>\n",
       "    <tr style=\"text-align: right;\">\n",
       "      <th></th>\n",
       "      <th>draught_value</th>\n",
       "    </tr>\n",
       "    <tr>\n",
       "      <th>state</th>\n",
       "      <th></th>\n",
       "    </tr>\n",
       "  </thead>\n",
       "  <tbody>\n",
       "    <tr>\n",
       "      <th>VA</th>\n",
       "      <td>7.01</td>\n",
       "    </tr>\n",
       "    <tr>\n",
       "      <th>MA</th>\n",
       "      <td>7.01</td>\n",
       "    </tr>\n",
       "    <tr>\n",
       "      <th>CA</th>\n",
       "      <td>6.28</td>\n",
       "    </tr>\n",
       "    <tr>\n",
       "      <th>AK</th>\n",
       "      <td>6.01</td>\n",
       "    </tr>\n",
       "    <tr>\n",
       "      <th>NJ</th>\n",
       "      <td>6.01</td>\n",
       "    </tr>\n",
       "  </tbody>\n",
       "</table>\n",
       "</div>"
      ],
      "text/plain": [
       "       draught_value\n",
       "state               \n",
       "VA              7.01\n",
       "MA              7.01\n",
       "CA              6.28\n",
       "AK              6.01\n",
       "NJ              6.01"
      ]
     },
     "execution_count": 13,
     "metadata": {},
     "output_type": "execute_result"
    }
   ],
   "source": [
    "state_beer_df = beer_df.groupby('state').mean().\\\n",
    "    sort_values('draught_value', ascending=False)\n",
    "state_beer_df.head()"
   ]
  },
  {
   "cell_type": "code",
   "execution_count": 14,
   "metadata": {},
   "outputs": [
    {
     "data": {
      "text/plain": [
       "<matplotlib.axes._subplots.AxesSubplot at 0x7fa788196850>"
      ]
     },
     "execution_count": 14,
     "metadata": {},
     "output_type": "execute_result"
    },
    {
     "data": {
      "image/png": "[encoded data removed]",
      "text/plain": [
       "<Figure size 1080x360 with 1 Axes>"
      ]
     },
     "metadata": {
      "needs_background": "light"
     },
     "output_type": "display_data"
    }
   ],
   "source": [
    "state_beer_df.plot.bar(figsize=(15,5))"
   ]
  },
  {
   "cell_type": "code",
   "execution_count": 33,
   "metadata": {},
   "outputs": [
    {
     "data": {
      "application/vnd.plotly.v1+json": {
       "config": {
        "plotlyServerURL": "https://plot.ly"
       },
       "data": [
        {
         "colorbar": {
          "title": {
           "text": "Value ($)"
          }
         },
         "locationmode": "USA-states",
         "locations": [
          "VA",
          "MA",
          "CA",
          "AK",
          "NJ",
          "DC",
          "MD",
          "HI",
          "OR",
          "MN",
          "CO",
          "IL",
          "GA",
          "NY",
          "FL",
          "WA",
          "ID",
          "SC",
          "UT",
          "NM",
          "NE",
          "NV",
          "NC",
          "OH",
          "MI",
          "AL",
          "IN",
          "AZ",
          "AR",
          "MO",
          "KY",
          "PA",
          "WI",
          "TN",
          "IA",
          "TX",
          "KS",
          "LA",
          "OK"
         ],
         "type": "choropleth",
         "z": [
          7.01,
          7.01,
          6.2799999999999985,
          6.01,
          6.01,
          6.01,
          6.01,
          6.01,
          5.63,
          5.505,
          5.505,
          5.5,
          5.5,
          5.442,
          5.1049999999999995,
          5.0112499999999995,
          5,
          5,
          5,
          5,
          5,
          4.836666666666667,
          4.63,
          4.595,
          4.5,
          4.5,
          4.5,
          4.5,
          4.5,
          4.25,
          4.25,
          4.25,
          4.25,
          4.245,
          4,
          3.9166666666666665,
          3.87,
          3.75,
          3.5
         ]
        }
       ],
       "layout": {
        "geo": {
         "scope": "usa"
        },
        "template": {
         "data": {
          "bar": [
           {
            "error_x": {
             "color": "#2a3f5f"
            },
            "error_y": {
             "color": "#2a3f5f"
            },
            "marker": {
             "line": {
              "color": "#E5ECF6",
              "width": 0.5
             }
            },
            "type": "bar"
           }
          ],
          "barpolar": [
           {
            "marker": {
             "line": {
              "color": "#E5ECF6",
              "width": 0.5
             }
            },
            "type": "barpolar"
           }
          ],
          "carpet": [
           {
            "aaxis": {
             "endlinecolor": "#2a3f5f",
             "gridcolor": "white",
             "linecolor": "white",
             "minorgridcolor": "white",
             "startlinecolor": "#2a3f5f"
            },
            "baxis": {
             "endlinecolor": "#2a3f5f",
             "gridcolor": "white",
             "linecolor": "white",
             "minorgridcolor": "white",
             "startlinecolor": "#2a3f5f"
            },
            "type": "carpet"
           }
          ],
          "choropleth": [
           {
            "colorbar": {
             "outlinewidth": 0,
             "ticks": ""
            },
            "type": "choropleth"
           }
          ],
          "contour": [
           {
            "colorbar": {
             "outlinewidth": 0,
             "ticks": ""
            },
            "colorscale": [
             [
              0,
              "#0d0887"
             ],
             [
              0.1111111111111111,
              "#46039f"
             ],
             [
              0.2222222222222222,
              "#7201a8"
             ],
             [
              0.3333333333333333,
              "#9c179e"
             ],
             [
              0.4444444444444444,
              "#bd3786"
             ],
             [
              0.5555555555555556,
              "#d8576b"
             ],
             [
              0.6666666666666666,
              "#ed7953"
             ],
             [
              0.7777777777777778,
              "#fb9f3a"
             ],
             [
              0.8888888888888888,
              "#fdca26"
             ],
             [
              1,
              "#f0f921"
             ]
            ],
            "type": "contour"
           }
          ],
          "contourcarpet": [
           {
            "colorbar": {
             "outlinewidth": 0,
             "ticks": ""
            },
            "type": "contourcarpet"
           }
          ],
          "heatmap": [
           {
            "colorbar": {
             "outlinewidth": 0,
             "ticks": ""
            },
            "colorscale": [
             [
              0,
              "#0d0887"
             ],
             [
              0.1111111111111111,
              "#46039f"
             ],
             [
              0.2222222222222222,
              "#7201a8"
             ],
             [
              0.3333333333333333,
              "#9c179e"
             ],
             [
              0.4444444444444444,
              "#bd3786"
             ],
             [
              0.5555555555555556,
              "#d8576b"
             ],
             [
              0.6666666666666666,
              "#ed7953"
             ],
             [
              0.7777777777777778,
              "#fb9f3a"
             ],
             [
              0.8888888888888888,
              "#fdca26"
             ],
             [
              1,
              "#f0f921"
             ]
            ],
            "type": "heatmap"
           }
          ],
          "heatmapgl": [
           {
            "colorbar": {
             "outlinewidth": 0,
             "ticks": ""
            },
            "colorscale": [
             [
              0,
              "#0d0887"
             ],
             [
              0.1111111111111111,
              "#46039f"
             ],
             [
              0.2222222222222222,
              "#7201a8"
             ],
             [
              0.3333333333333333,
              "#9c179e"
             ],
             [
              0.4444444444444444,
              "#bd3786"
             ],
             [
              0.5555555555555556,
              "#d8576b"
             ],
             [
              0.6666666666666666,
              "#ed7953"
             ],
             [
              0.7777777777777778,
              "#fb9f3a"
             ],
             [
              0.8888888888888888,
              "#fdca26"
             ],
             [
              1,
              "#f0f921"
             ]
            ],
            "type": "heatmapgl"
           }
          ],
          "histogram": [
           {
            "marker": {
             "colorbar": {
              "outlinewidth": 0,
              "ticks": ""
             }
            },
            "type": "histogram"
           }
          ],
          "histogram2d": [
           {
            "colorbar": {
             "outlinewidth": 0,
             "ticks": ""
            },
            "colorscale": [
             [
              0,
              "#0d0887"
             ],
             [
              0.1111111111111111,
              "#46039f"
             ],
             [
              0.2222222222222222,
              "#7201a8"
             ],
             [
              0.3333333333333333,
              "#9c179e"
             ],
             [
              0.4444444444444444,
              "#bd3786"
             ],
             [
              0.5555555555555556,
              "#d8576b"
             ],
             [
              0.6666666666666666,
              "#ed7953"
             ],
             [
              0.7777777777777778,
              "#fb9f3a"
             ],
             [
              0.8888888888888888,
              "#fdca26"
             ],
             [
              1,
              "#f0f921"
             ]
            ],
            "type": "histogram2d"
           }
          ],
          "histogram2dcontour": [
           {
            "colorbar": {
             "outlinewidth": 0,
             "ticks": ""
            },
            "colorscale": [
             [
              0,
              "#0d0887"
             ],
             [
              0.1111111111111111,
              "#46039f"
             ],
             [
              0.2222222222222222,
              "#7201a8"
             ],
             [
              0.3333333333333333,
              "#9c179e"
             ],
             [
              0.4444444444444444,
              "#bd3786"
             ],
             [
              0.5555555555555556,
              "#d8576b"
             ],
             [
              0.6666666666666666,
              "#ed7953"
             ],
             [
              0.7777777777777778,
              "#fb9f3a"
             ],
             [
              0.8888888888888888,
              "#fdca26"
             ],
             [
              1,
              "#f0f921"
             ]
            ],
            "type": "histogram2dcontour"
           }
          ],
          "mesh3d": [
           {
            "colorbar": {
             "outlinewidth": 0,
             "ticks": ""
            },
            "type": "mesh3d"
           }
          ],
          "parcoords": [
           {
            "line": {
             "colorbar": {
              "outlinewidth": 0,
              "ticks": ""
             }
            },
            "type": "parcoords"
           }
          ],
          "pie": [
           {
            "automargin": true,
            "type": "pie"
           }
          ],
          "scatter": [
           {
            "marker": {
             "colorbar": {
              "outlinewidth": 0,
              "ticks": ""
             }
            },
            "type": "scatter"
           }
          ],
          "scatter3d": [
           {
            "line": {
             "colorbar": {
              "outlinewidth": 0,
              "ticks": ""
             }
            },
            "marker": {
             "colorbar": {
              "outlinewidth": 0,
              "ticks": ""
             }
            },
            "type": "scatter3d"
           }
          ],
          "scattercarpet": [
           {
            "marker": {
             "colorbar": {
              "outlinewidth": 0,
              "ticks": ""
             }
            },
            "type": "scattercarpet"
           }
          ],
          "scattergeo": [
           {
            "marker": {
             "colorbar": {
              "outlinewidth": 0,
              "ticks": ""
             }
            },
            "type": "scattergeo"
           }
          ],
          "scattergl": [
           {
            "marker": {
             "colorbar": {
              "outlinewidth": 0,
              "ticks": ""
             }
            },
            "type": "scattergl"
           }
          ],
          "scattermapbox": [
           {
            "marker": {
             "colorbar": {
              "outlinewidth": 0,
              "ticks": ""
             }
            },
            "type": "scattermapbox"
           }
          ],
          "scatterpolar": [
           {
            "marker": {
             "colorbar": {
              "outlinewidth": 0,
              "ticks": ""
             }
            },
            "type": "scatterpolar"
           }
          ],
          "scatterpolargl": [
           {
            "marker": {
             "colorbar": {
              "outlinewidth": 0,
              "ticks": ""
             }
            },
            "type": "scatterpolargl"
           }
          ],
          "scatterternary": [
           {
            "marker": {
             "colorbar": {
              "outlinewidth": 0,
              "ticks": ""
             }
            },
            "type": "scatterternary"
           }
          ],
          "surface": [
           {
            "colorbar": {
             "outlinewidth": 0,
             "ticks": ""
            },
            "colorscale": [
             [
              0,
              "#0d0887"
             ],
             [
              0.1111111111111111,
              "#46039f"
             ],
             [
              0.2222222222222222,
              "#7201a8"
             ],
             [
              0.3333333333333333,
              "#9c179e"
             ],
             [
              0.4444444444444444,
              "#bd3786"
             ],
             [
              0.5555555555555556,
              "#d8576b"
             ],
             [
              0.6666666666666666,
              "#ed7953"
             ],
             [
              0.7777777777777778,
              "#fb9f3a"
             ],
             [
              0.8888888888888888,
              "#fdca26"
             ],
             [
              1,
              "#f0f921"
             ]
            ],
            "type": "surface"
           }
          ],
          "table": [
           {
            "cells": {
             "fill": {
              "color": "#EBF0F8"
             },
             "line": {
              "color": "white"
             }
            },
            "header": {
             "fill": {
              "color": "#C8D4E3"
             },
             "line": {
              "color": "white"
             }
            },
            "type": "table"
           }
          ]
         },
         "layout": {
          "annotationdefaults": {
           "arrowcolor": "#2a3f5f",
           "arrowhead": 0,
           "arrowwidth": 1
          },
          "coloraxis": {
           "colorbar": {
            "outlinewidth": 0,
            "ticks": ""
           }
          },
          "colorscale": {
           "diverging": [
            [
             0,
             "#8e0152"
            ],
            [
             0.1,
             "#c51b7d"
            ],
            [
             0.2,
             "#de77ae"
            ],
            [
             0.3,
             "#f1b6da"
            ],
            [
             0.4,
             "#fde0ef"
            ],
            [
             0.5,
             "#f7f7f7"
            ],
            [
             0.6,
             "#e6f5d0"
            ],
            [
             0.7,
             "#b8e186"
            ],
            [
             0.8,
             "#7fbc41"
            ],
            [
             0.9,
             "#4d9221"
            ],
            [
             1,
             "#276419"
            ]
           ],
           "sequential": [
            [
             0,
             "#0d0887"
            ],
            [
             0.1111111111111111,
             "#46039f"
            ],
            [
             0.2222222222222222,
             "#7201a8"
            ],
            [
             0.3333333333333333,
             "#9c179e"
            ],
            [
             0.4444444444444444,
             "#bd3786"
            ],
            [
             0.5555555555555556,
             "#d8576b"
            ],
            [
             0.6666666666666666,
             "#ed7953"
            ],
            [
             0.7777777777777778,
             "#fb9f3a"
            ],
            [
             0.8888888888888888,
             "#fdca26"
            ],
            [
             1,
             "#f0f921"
            ]
           ],
           "sequentialminus": [
            [
             0,
             "#0d0887"
            ],
            [
             0.1111111111111111,
             "#46039f"
            ],
            [
             0.2222222222222222,
             "#7201a8"
            ],
            [
             0.3333333333333333,
             "#9c179e"
            ],
            [
             0.4444444444444444,
             "#bd3786"
            ],
            [
             0.5555555555555556,
             "#d8576b"
            ],
            [
             0.6666666666666666,
             "#ed7953"
            ],
            [
             0.7777777777777778,
             "#fb9f3a"
            ],
            [
             0.8888888888888888,
             "#fdca26"
            ],
            [
             1,
             "#f0f921"
            ]
           ]
          },
          "colorway": [
           "#636efa",
           "#EF553B",
           "#00cc96",
           "#ab63fa",
           "#FFA15A",
           "#19d3f3",
           "#FF6692",
           "#B6E880",
           "#FF97FF",
           "#FECB52"
          ],
          "font": {
           "color": "#2a3f5f"
          },
          "geo": {
           "bgcolor": "white",
           "lakecolor": "white",
           "landcolor": "#E5ECF6",
           "showlakes": true,
           "showland": true,
           "subunitcolor": "white"
          },
          "hoverlabel": {
           "align": "left"
          },
          "hovermode": "closest",
          "mapbox": {
           "style": "light"
          },
          "paper_bgcolor": "white",
          "plot_bgcolor": "#E5ECF6",
          "polar": {
           "angularaxis": {
            "gridcolor": "white",
            "linecolor": "white",
            "ticks": ""
           },
           "bgcolor": "#E5ECF6",
           "radialaxis": {
            "gridcolor": "white",
            "linecolor": "white",
            "ticks": ""
           }
          },
          "scene": {
           "xaxis": {
            "backgroundcolor": "#E5ECF6",
            "gridcolor": "white",
            "gridwidth": 2,
            "linecolor": "white",
            "showbackground": true,
            "ticks": "",
            "zerolinecolor": "white"
           },
           "yaxis": {
            "backgroundcolor": "#E5ECF6",
            "gridcolor": "white",
            "gridwidth": 2,
            "linecolor": "white",
            "showbackground": true,
            "ticks": "",
            "zerolinecolor": "white"
           },
           "zaxis": {
            "backgroundcolor": "#E5ECF6",
            "gridcolor": "white",
            "gridwidth": 2,
            "linecolor": "white",
            "showbackground": true,
            "ticks": "",
            "zerolinecolor": "white"
           }
          },
          "shapedefaults": {
           "line": {
            "color": "#2a3f5f"
           }
          },
          "ternary": {
           "aaxis": {
            "gridcolor": "white",
            "linecolor": "white",
            "ticks": ""
           },
           "baxis": {
            "gridcolor": "white",
            "linecolor": "white",
            "ticks": ""
           },
           "bgcolor": "#E5ECF6",
           "caxis": {
            "gridcolor": "white",
            "linecolor": "white",
            "ticks": ""
           }
          },
          "title": {
           "x": 0.05
          },
          "xaxis": {
           "automargin": true,
           "gridcolor": "white",
           "linecolor": "white",
           "ticks": "",
           "title": {
            "standoff": 15
           },
           "zerolinecolor": "white",
           "zerolinewidth": 2
          },
          "yaxis": {
           "automargin": true,
           "gridcolor": "white",
           "linecolor": "white",
           "ticks": "",
           "title": {
            "standoff": 15
           },
           "zerolinecolor": "white",
           "zerolinewidth": 2
          }
         }
        },
        "title": {
         "text": "Value of domestic draught beer by state"
        }
       }
      },
      "text/html": [
       "<div>\n",
       "        \n",
       "        \n",
       "            <div id=\"e9b317b0-4783-4390-be0a-59895067593d\" class=\"plotly-graph-div\" style=\"height:525px; width:100%;\"></div>\n",
       "            <script type=\"text/javascript\">\n",
       "                require([\"plotly\"], function(Plotly) {\n",
       "                    window.PLOTLYENV=window.PLOTLYENV || {};\n",
       "                    \n",
       "                if (document.getElementById(\"e9b317b0-4783-4390-be0a-59895067593d\")) {\n",
       "                    Plotly.newPlot(\n",
       "                        'e9b317b0-4783-4390-be0a-59895067593d',\n",
       "                        [{\"colorbar\": {\"title\": {\"text\": \"Value ($)\"}}, \"locationmode\": \"USA-states\", \"locations\": [\"VA\", \"MA\", \"CA\", \"AK\", \"NJ\", \"DC\", \"MD\", \"HI\", \"OR\", \"MN\", \"CO\", \"IL\", \"GA\", \"NY\", \"FL\", \"WA\", \"ID\", \"SC\", \"UT\", \"NM\", \"NE\", \"NV\", \"NC\", \"OH\", \"MI\", \"AL\", \"IN\", \"AZ\", \"AR\", \"MO\", \"KY\", \"PA\", \"WI\", \"TN\", \"IA\", \"TX\", \"KS\", \"LA\", \"OK\"], \"type\": \"choropleth\", \"z\": [7.01, 7.01, 6.2799999999999985, 6.01, 6.01, 6.01, 6.01, 6.01, 5.63, 5.505, 5.505, 5.5, 5.5, 5.442, 5.1049999999999995, 5.0112499999999995, 5.0, 5.0, 5.0, 5.0, 5.0, 4.836666666666667, 4.63, 4.595, 4.5, 4.5, 4.5, 4.5, 4.5, 4.25, 4.25, 4.25, 4.25, 4.245, 4.0, 3.9166666666666665, 3.87, 3.75, 3.5]}],\n",
       "                        {\"geo\": {\"scope\": \"usa\"}, \"template\": {\"data\": {\"bar\": [{\"error_x\": {\"color\": \"#2a3f5f\"}, \"error_y\": {\"color\": \"#2a3f5f\"}, \"marker\": {\"line\": {\"color\": \"#E5ECF6\", \"width\": 0.5}}, \"type\": \"bar\"}], \"barpolar\": [{\"marker\": {\"line\": {\"color\": \"#E5ECF6\", \"width\": 0.5}}, \"type\": \"barpolar\"}], \"carpet\": [{\"aaxis\": {\"endlinecolor\": \"#2a3f5f\", \"gridcolor\": \"white\", \"linecolor\": \"white\", \"minorgridcolor\": \"white\", \"startlinecolor\": \"#2a3f5f\"}, \"baxis\": {\"endlinecolor\": \"#2a3f5f\", \"gridcolor\": \"white\", \"linecolor\": \"white\", \"minorgridcolor\": \"white\", \"startlinecolor\": \"#2a3f5f\"}, \"type\": \"carpet\"}], \"choropleth\": [{\"colorbar\": {\"outlinewidth\": 0, \"ticks\": \"\"}, \"type\": \"choropleth\"}], \"contour\": [{\"colorbar\": {\"outlinewidth\": 0, \"ticks\": \"\"}, \"colorscale\": [[0.0, \"#0d0887\"], [0.1111111111111111, \"#46039f\"], [0.2222222222222222, \"#7201a8\"], [0.3333333333333333, \"#9c179e\"], [0.4444444444444444, \"#bd3786\"], [0.5555555555555556, \"#d8576b\"], [0.6666666666666666, \"#ed7953\"], [0.7777777777777778, \"#fb9f3a\"], [0.8888888888888888, \"#fdca26\"], [1.0, \"#f0f921\"]], \"type\": \"contour\"}], \"contourcarpet\": [{\"colorbar\": {\"outlinewidth\": 0, \"ticks\": \"\"}, \"type\": \"contourcarpet\"}], \"heatmap\": [{\"colorbar\": {\"outlinewidth\": 0, \"ticks\": \"\"}, \"colorscale\": [[0.0, \"#0d0887\"], [0.1111111111111111, \"#46039f\"], [0.2222222222222222, \"#7201a8\"], [0.3333333333333333, \"#9c179e\"], [0.4444444444444444, \"#bd3786\"], [0.5555555555555556, \"#d8576b\"], [0.6666666666666666, \"#ed7953\"], [0.7777777777777778, \"#fb9f3a\"], [0.8888888888888888, \"#fdca26\"], [1.0, \"#f0f921\"]], \"type\": \"heatmap\"}], \"heatmapgl\": [{\"colorbar\": {\"outlinewidth\": 0, \"ticks\": \"\"}, \"colorscale\": [[0.0, \"#0d0887\"], [0.1111111111111111, \"#46039f\"], [0.2222222222222222, \"#7201a8\"], [0.3333333333333333, \"#9c179e\"], [0.4444444444444444, \"#bd3786\"], [0.5555555555555556, \"#d8576b\"], [0.6666666666666666, \"#ed7953\"], [0.7777777777777778, \"#fb9f3a\"], [0.8888888888888888, \"#fdca26\"], [1.0, \"#f0f921\"]], \"type\": \"heatmapgl\"}], \"histogram\": [{\"marker\": {\"colorbar\": {\"outlinewidth\": 0, \"ticks\": \"\"}}, \"type\": \"histogram\"}], \"histogram2d\": [{\"colorbar\": {\"outlinewidth\": 0, \"ticks\": \"\"}, \"colorscale\": [[0.0, \"#0d0887\"], [0.1111111111111111, \"#46039f\"], [0.2222222222222222, \"#7201a8\"], [0.3333333333333333, \"#9c179e\"], [0.4444444444444444, \"#bd3786\"], [0.5555555555555556, \"#d8576b\"], [0.6666666666666666, \"#ed7953\"], [0.7777777777777778, \"#fb9f3a\"], [0.8888888888888888, \"#fdca26\"], [1.0, \"#f0f921\"]], \"type\": \"histogram2d\"}], \"histogram2dcontour\": [{\"colorbar\": {\"outlinewidth\": 0, \"ticks\": \"\"}, \"colorscale\": [[0.0, \"#0d0887\"], [0.1111111111111111, \"#46039f\"], [0.2222222222222222, \"#7201a8\"], [0.3333333333333333, \"#9c179e\"], [0.4444444444444444, \"#bd3786\"], [0.5555555555555556, \"#d8576b\"], [0.6666666666666666, \"#ed7953\"], [0.7777777777777778, \"#fb9f3a\"], [0.8888888888888888, \"#fdca26\"], [1.0, \"#f0f921\"]], \"type\": \"histogram2dcontour\"}], \"mesh3d\": [{\"colorbar\": {\"outlinewidth\": 0, \"ticks\": \"\"}, \"type\": \"mesh3d\"}], \"parcoords\": [{\"line\": {\"colorbar\": {\"outlinewidth\": 0, \"ticks\": \"\"}}, \"type\": \"parcoords\"}], \"pie\": [{\"automargin\": true, \"type\": \"pie\"}], \"scatter\": [{\"marker\": {\"colorbar\": {\"outlinewidth\": 0, \"ticks\": \"\"}}, \"type\": \"scatter\"}], \"scatter3d\": [{\"line\": {\"colorbar\": {\"outlinewidth\": 0, \"ticks\": \"\"}}, \"marker\": {\"colorbar\": {\"outlinewidth\": 0, \"ticks\": \"\"}}, \"type\": \"scatter3d\"}], \"scattercarpet\": [{\"marker\": {\"colorbar\": {\"outlinewidth\": 0, \"ticks\": \"\"}}, \"type\": \"scattercarpet\"}], \"scattergeo\": [{\"marker\": {\"colorbar\": {\"outlinewidth\": 0, \"ticks\": \"\"}}, \"type\": \"scattergeo\"}], \"scattergl\": [{\"marker\": {\"colorbar\": {\"outlinewidth\": 0, \"ticks\": \"\"}}, \"type\": \"scattergl\"}], \"scattermapbox\": [{\"marker\": {\"colorbar\": {\"outlinewidth\": 0, \"ticks\": \"\"}}, \"type\": \"scattermapbox\"}], \"scatterpolar\": [{\"marker\": {\"colorbar\": {\"outlinewidth\": 0, \"ticks\": \"\"}}, \"type\": \"scatterpolar\"}], \"scatterpolargl\": [{\"marker\": {\"colorbar\": {\"outlinewidth\": 0, \"ticks\": \"\"}}, \"type\": \"scatterpolargl\"}], \"scatterternary\": [{\"marker\": {\"colorbar\": {\"outlinewidth\": 0, \"ticks\": \"\"}}, \"type\": \"scatterternary\"}], \"surface\": [{\"colorbar\": {\"outlinewidth\": 0, \"ticks\": \"\"}, \"colorscale\": [[0.0, \"#0d0887\"], [0.1111111111111111, \"#46039f\"], [0.2222222222222222, \"#7201a8\"], [0.3333333333333333, \"#9c179e\"], [0.4444444444444444, \"#bd3786\"], [0.5555555555555556, \"#d8576b\"], [0.6666666666666666, \"#ed7953\"], [0.7777777777777778, \"#fb9f3a\"], [0.8888888888888888, \"#fdca26\"], [1.0, \"#f0f921\"]], \"type\": \"surface\"}], \"table\": [{\"cells\": {\"fill\": {\"color\": \"#EBF0F8\"}, \"line\": {\"color\": \"white\"}}, \"header\": {\"fill\": {\"color\": \"#C8D4E3\"}, \"line\": {\"color\": \"white\"}}, \"type\": \"table\"}]}, \"layout\": {\"annotationdefaults\": {\"arrowcolor\": \"#2a3f5f\", \"arrowhead\": 0, \"arrowwidth\": 1}, \"coloraxis\": {\"colorbar\": {\"outlinewidth\": 0, \"ticks\": \"\"}}, \"colorscale\": {\"diverging\": [[0, \"#8e0152\"], [0.1, \"#c51b7d\"], [0.2, \"#de77ae\"], [0.3, \"#f1b6da\"], [0.4, \"#fde0ef\"], [0.5, \"#f7f7f7\"], [0.6, \"#e6f5d0\"], [0.7, \"#b8e186\"], [0.8, \"#7fbc41\"], [0.9, \"#4d9221\"], [1, \"#276419\"]], \"sequential\": [[0.0, \"#0d0887\"], [0.1111111111111111, \"#46039f\"], [0.2222222222222222, \"#7201a8\"], [0.3333333333333333, \"#9c179e\"], [0.4444444444444444, \"#bd3786\"], [0.5555555555555556, \"#d8576b\"], [0.6666666666666666, \"#ed7953\"], [0.7777777777777778, \"#fb9f3a\"], [0.8888888888888888, \"#fdca26\"], [1.0, \"#f0f921\"]], \"sequentialminus\": [[0.0, \"#0d0887\"], [0.1111111111111111, \"#46039f\"], [0.2222222222222222, \"#7201a8\"], [0.3333333333333333, \"#9c179e\"], [0.4444444444444444, \"#bd3786\"], [0.5555555555555556, \"#d8576b\"], [0.6666666666666666, \"#ed7953\"], [0.7777777777777778, \"#fb9f3a\"], [0.8888888888888888, \"#fdca26\"], [1.0, \"#f0f921\"]]}, \"colorway\": [\"#636efa\", \"#EF553B\", \"#00cc96\", \"#ab63fa\", \"#FFA15A\", \"#19d3f3\", \"#FF6692\", \"#B6E880\", \"#FF97FF\", \"#FECB52\"], \"font\": {\"color\": \"#2a3f5f\"}, \"geo\": {\"bgcolor\": \"white\", \"lakecolor\": \"white\", \"landcolor\": \"#E5ECF6\", \"showlakes\": true, \"showland\": true, \"subunitcolor\": \"white\"}, \"hoverlabel\": {\"align\": \"left\"}, \"hovermode\": \"closest\", \"mapbox\": {\"style\": \"light\"}, \"paper_bgcolor\": \"white\", \"plot_bgcolor\": \"#E5ECF6\", \"polar\": {\"angularaxis\": {\"gridcolor\": \"white\", \"linecolor\": \"white\", \"ticks\": \"\"}, \"bgcolor\": \"#E5ECF6\", \"radialaxis\": {\"gridcolor\": \"white\", \"linecolor\": \"white\", \"ticks\": \"\"}}, \"scene\": {\"xaxis\": {\"backgroundcolor\": \"#E5ECF6\", \"gridcolor\": \"white\", \"gridwidth\": 2, \"linecolor\": \"white\", \"showbackground\": true, \"ticks\": \"\", \"zerolinecolor\": \"white\"}, \"yaxis\": {\"backgroundcolor\": \"#E5ECF6\", \"gridcolor\": \"white\", \"gridwidth\": 2, \"linecolor\": \"white\", \"showbackground\": true, \"ticks\": \"\", \"zerolinecolor\": \"white\"}, \"zaxis\": {\"backgroundcolor\": \"#E5ECF6\", \"gridcolor\": \"white\", \"gridwidth\": 2, \"linecolor\": \"white\", \"showbackground\": true, \"ticks\": \"\", \"zerolinecolor\": \"white\"}}, \"shapedefaults\": {\"line\": {\"color\": \"#2a3f5f\"}}, \"ternary\": {\"aaxis\": {\"gridcolor\": \"white\", \"linecolor\": \"white\", \"ticks\": \"\"}, \"baxis\": {\"gridcolor\": \"white\", \"linecolor\": \"white\", \"ticks\": \"\"}, \"bgcolor\": \"#E5ECF6\", \"caxis\": {\"gridcolor\": \"white\", \"linecolor\": \"white\", \"ticks\": \"\"}}, \"title\": {\"x\": 0.05}, \"xaxis\": {\"automargin\": true, \"gridcolor\": \"white\", \"linecolor\": \"white\", \"ticks\": \"\", \"title\": {\"standoff\": 15}, \"zerolinecolor\": \"white\", \"zerolinewidth\": 2}, \"yaxis\": {\"automargin\": true, \"gridcolor\": \"white\", \"linecolor\": \"white\", \"ticks\": \"\", \"title\": {\"standoff\": 15}, \"zerolinecolor\": \"white\", \"zerolinewidth\": 2}}}, \"title\": {\"text\": \"Value of domestic draught beer by state\"}},\n",
       "                        {\"responsive\": true}\n",
       "                    ).then(function(){\n",
       "                            \n",
       "var gd = document.getElementById('e9b317b0-4783-4390-be0a-59895067593d');\n",
       "var x = new MutationObserver(function (mutations, observer) {{\n",
       "        var display = window.getComputedStyle(gd).display;\n",
       "        if (!display || display === 'none') {{\n",
       "            console.log([gd, 'removed!']);\n",
       "            Plotly.purge(gd);\n",
       "            observer.disconnect();\n",
       "        }}\n",
       "}});\n",
       "\n",
       "// Listen for the removal of the full notebook cells\n",
       "var notebookContainer = gd.closest('#notebook-container');\n",
       "if (notebookContainer) {{\n",
       "    x.observe(notebookContainer, {childList: true});\n",
       "}}\n",
       "\n",
       "// Listen for the clearing of the current output cell\n",
       "var outputEl = gd.closest('.output');\n",
       "if (outputEl) {{\n",
       "    x.observe(outputEl, {childList: true});\n",
       "}}\n",
       "\n",
       "                        })\n",
       "                };\n",
       "                });\n",
       "            </script>\n",
       "        </div>"
      ]
     },
     "metadata": {},
     "output_type": "display_data"
    }
   ],
   "source": [
    "fig = go.Figure(data=go.Choropleth(\n",
    "    locations=state_beer_df.index, # Spatial coordinates\n",
    "    z = state_beer_df['draught_value'], # Data to be color-coded\n",
    "    locationmode = 'USA-states', # set of locations match entries in `locations`\n",
    "    colorbar_title = 'Value ($)'))\n",
    "\n",
    "fig.update_layout(\n",
    "    title_text = 'Value of domestic draught beer by state',\n",
    "    geo_scope='usa', # limite map scope to USA\n",
    ")\n",
    "\n",
    "fig.show()"
   ]
  },
  {
   "cell_type": "code",
   "execution_count": null,
   "metadata": {},
   "outputs": [],
   "source": []
  }
 ],
 "metadata": {
  "kernelspec": {
   "display_name": "Python 3",
   "language": "python",
   "name": "python3"
  },
  "language_info": {
   "codemirror_mode": {
    "name": "ipython",
    "version": 3
   },
   "file_extension": ".py",
   "mimetype": "text/x-python",
   "name": "python",
   "nbconvert_exporter": "python",
   "pygments_lexer": "ipython3",
   "version": "3.7.4"
  }
 },
 "nbformat": 4,
 "nbformat_minor": 2
}
